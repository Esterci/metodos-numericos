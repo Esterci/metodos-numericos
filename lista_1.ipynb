{
 "cells": [
  {
   "cell_type": "code",
   "execution_count": 2,
   "metadata": {},
   "outputs": [],
   "source": [
    "import numpy as np"
   ]
  },
  {
   "cell_type": "markdown",
   "metadata": {},
   "source": [
    "# Métodos Numéricos: Trabalho 1"
   ]
  },
  {
   "cell_type": "markdown",
   "metadata": {},
   "source": [
    "## Questão 1) \n",
    "    Desenvolva um programa que conte o número de bits considerados na mantissa de números em ponto flutuante. Leve em consideração apenas os tipos de representação de ponto flutuante que a linguagem de programação que for usada permite manipular (simples, dupla, etc)."
   ]
  },
  {
   "cell_type": "markdown",
   "metadata": {},
   "source": [
    "No Python, para converter floats para sua representação em binário, é necessário converter o número para sua representação em string binária através da biblioteca struct"
   ]
  },
  {
   "cell_type": "code",
   "execution_count": 103,
   "metadata": {},
   "outputs": [],
   "source": [
    "class baseTranform:\n",
    "    def __init__(self) -> None:\n",
    "        self.inteira_bin = \"\"\n",
    "        self.fracionaria_bin = \"\"\n",
    "        self.zero = False\n",
    "        self.int_num_bit = 0\n",
    "\n",
    "    @classmethod\n",
    "    def normaliza_mantissa(cls, numero):\n",
    "        string_rep = str(numero)\n",
    "\n",
    "        print(type(string_rep))\n",
    "        print(string_rep + \"!!!!!!!!!!!!!!\")\n",
    "\n",
    "        count = 0\n",
    "\n",
    "        significativo = False\n",
    "\n",
    "        normmalized_str = \"\"\n",
    "\n",
    "        for digit in [*string_rep]:\n",
    "            if digit == \"0\" and significativo == False:\n",
    "                count += 1\n",
    "\n",
    "            else:\n",
    "                significativo = True\n",
    "                normmalized_str += digit\n",
    "\n",
    "        normmalized_number = float(\"0.\" + normmalized_str)\n",
    "\n",
    "        return int(count * -1), normmalized_number\n",
    "\n",
    "    def conv_int(self, num_int):\n",
    "        if num_int == 0:\n",
    "            self.zero = True\n",
    "            pass\n",
    "\n",
    "        elif num_int >= 2:\n",
    "            multiplo = num_int // 2\n",
    "            resto = num_int % 2\n",
    "            self.inteira_bin += str(int(resto))\n",
    "            self.conv_int(multiplo)\n",
    "\n",
    "        else:\n",
    "            multiplo = num_int // 2\n",
    "            resto = num_int % 2\n",
    "            self.inteira_bin += str(int(resto))\n",
    "\n",
    "            self.int_num_bit = len(self.inteira_bin)\n",
    "\n",
    "    def conv_frac(self, num_frac):\n",
    "        bit_lim = 53 - self.int_num_bit\n",
    "\n",
    "        if self.zero:\n",
    "            self.expoente, prox = self.normaliza_mantissa(num_frac)\n",
    "\n",
    "        else:\n",
    "            self.expoente = self.int_num_bit\n",
    "            prox = num_frac\n",
    "\n",
    "        while prox != 0 and len(self.fracionaria_bin) < bit_lim:\n",
    "            resultado = prox * 2\n",
    "\n",
    "            prox = resultado % 1\n",
    "\n",
    "            self.fracionaria_bin += str(int(resultado // 1))\n",
    "\n",
    "    def con_to_bin(self, numero):\n",
    "        parte_inteira = int(numero // 1)\n",
    "\n",
    "        parte_fracionaria = numero % 1\n",
    "\n",
    "        self.conv_int(parte_inteira)\n",
    "\n",
    "        self.conv_frac(parte_fracionaria)\n",
    "\n",
    "        return {\n",
    "            \"mantissa\": self.inteira_bin + self.fracionaria_bin,\n",
    "            \"expoente\": self.expoente,\n",
    "        }"
   ]
  },
  {
   "cell_type": "code",
   "execution_count": 104,
   "metadata": {},
   "outputs": [
    {
     "name": "stdout",
     "output_type": "stream",
     "text": [
      "<class 'str'>\n",
      "5e-07!!!!!!!!!!!!!!\n"
     ]
    }
   ],
   "source": [
    "numero = 0.0000005\n",
    "\n",
    "myObject = baseTranform()\n",
    "\n",
    "result = myObject.con_to_bin(numero)"
   ]
  },
  {
   "cell_type": "code",
   "execution_count": 82,
   "metadata": {},
   "outputs": [
    {
     "data": {
      "text/plain": [
       "{'mantissa': '00000000000000000000000011010110101111111001010011010',\n",
       " 'expoente': 0}"
      ]
     },
     "execution_count": 82,
     "metadata": {},
     "output_type": "execute_result"
    }
   ],
   "source": [
    "result"
   ]
  },
  {
   "cell_type": "code",
   "execution_count": null,
   "metadata": {},
   "outputs": [],
   "source": []
  }
 ],
 "metadata": {
  "kernelspec": {
   "display_name": "base",
   "language": "python",
   "name": "python3"
  },
  "language_info": {
   "codemirror_mode": {
    "name": "ipython",
    "version": 3
   },
   "file_extension": ".py",
   "mimetype": "text/x-python",
   "name": "python",
   "nbconvert_exporter": "python",
   "pygments_lexer": "ipython3",
   "version": "3.11.3"
  },
  "orig_nbformat": 4
 },
 "nbformat": 4,
 "nbformat_minor": 2
}
