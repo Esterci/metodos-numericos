{
    "cells": [
        {
            "cell_type": "markdown",
            "metadata": {},
            "source": [
                "# Imports necessários"
            ]
        },
        {
            "cell_type": "code",
            "execution_count": 8,
            "metadata": {},
            "outputs": [],
            "source": [
                "import numpy as np\n",
                "import matplotlib.pyplot as plt\n",
                "import scipy.optimize as opt\n"
            ]
        },
        {
            "cell_type": "markdown",
            "metadata": {},
            "source": [
                "# Implementação dos métodos"
            ]
        },
        {
            "cell_type": "markdown",
            "metadata": {},
            "source": [
                "## Método da Bisseção"
            ]
        },
        {
            "cell_type": "code",
            "execution_count": 28,
            "metadata": {},
            "outputs": [],
            "source": [
                "# Teorema de Bolzano\n",
                "\n",
                "def bolz_teo(a,b,imax,e,f_local):\n",
                "  if f_local(a)*f_local(b)<0:\n",
                "    k=0\n",
                "    while(abs(b-a) > e and k<imax): \n",
                "\n",
                "      xi = (a+b)/2 \n",
                "\n",
                "      if f_local(xi) == 0:\n",
                "        print(\"A raíz é: \", xi)\n",
                "        break\n",
                "\n",
                "      elif f_local(a)*f_local(xi) < 0:\n",
                "          b = xi\n",
                "\n",
                "      else:\n",
                "        a = xi\n",
                "\n",
                "    print(\"O valor da raíz é: \", xi)\n",
                "\n",
                "  else:\n",
                "\n",
                "    print(\"Não existe raiz nesse intervalo!\")\n",
                "\n",
                "  print(\"O número de iterações foi de: \", k+1)"
            ]
        },
        {
            "cell_type": "markdown",
            "metadata": {},
            "source": [
                "## Método de Newton"
            ]
        },
        {
            "cell_type": "code",
            "execution_count": 10,
            "metadata": {},
            "outputs": [],
            "source": [
                "def df(x, f_local):\n",
                "    h = 0.000001\n",
                "\n",
                "    return (f_local(x + h) - f_local(x)) / h\n",
                "\n",
                "\n",
                "def Newton_met(x0, imax, e, f_local):\n",
                "    i = 1\n",
                "    while abs(f_local(x0)) > e:  # Critério de Parada\n",
                "        x = x0 - f_local(x0) / df(x0, f_local)\n",
                "\n",
                "        x0 = x\n",
                "\n",
                "        i = i + 1\n",
                "\n",
                "        if i >= imax:\n",
                "            print(\n",
                "                \"Número máximo de iterações foi atingido e a raíz não foi encontrada.\"\n",
                "            )\n",
                "            break\n",
                "\n",
                "    print(\n",
                "        \"\\n\\n Raíz {:f} \\n iterações: {:d} \\n f({:f})={:f} \\n\\n\".format(\n",
                "            x0, i, x0, f_local(x0)\n",
                "        )\n",
                "    )"
            ]
        },
        {
            "cell_type": "markdown",
            "metadata": {},
            "source": [
                "## Método da Secante"
            ]
        },
        {
            "cell_type": "code",
            "execution_count": 17,
            "metadata": {},
            "outputs": [],
            "source": [
                "def Sec_met(x0,x1,e,imax,f_local):\n",
                "    step = 1\n",
                "    condition = True\n",
                "    while condition:\n",
                "        if f_local(x0) == f_local(x1):\n",
                "            print('Divisão por erro=0')\n",
                "            break\n",
                "        \n",
                "        x2 = x0 - (x1-x0)*f_local(x0)/( f_local(x1) - f_local(x0) ) \n",
                "        x0 = x1\n",
                "        x1 = x2\n",
                "        step = step + 1\n",
                "        \n",
                "        if step > imax:\n",
                "            print('Não converge')\n",
                "            break\n",
                "        \n",
                "        condition = abs(f_local(x2)) > e\n",
                "    \n",
                "    print('Iteração-{:d}, x2 = {:0.6f} e f(x2) = {:0.6f}'.format(step, x2, f_local(x2)))\n"
            ]
        },
        {
            "cell_type": "markdown",
            "metadata": {},
            "source": [
                "# Letra A"
            ]
        },
        {
            "cell_type": "markdown",
            "metadata": {},
            "source": [
                "## Definições iniciais"
            ]
        },
        {
            "cell_type": "code",
            "execution_count": 12,
            "metadata": {},
            "outputs": [],
            "source": [
                "# Definindo função a ser estudada\n",
                "def f_a(x):\n",
                " return np.power(x,3)-2*x-5\n"
            ]
        },
        {
            "cell_type": "code",
            "execution_count": 13,
            "metadata": {},
            "outputs": [
                {
                    "name": "stdout",
                    "output_type": "stream",
                    "text": [
                        "A raiz aproximada é:  2.0945514815423265 \n",
                        "\n"
                    ]
                },
                {
                    "data": {
                        "image/png": "[encoded data removed]",
                        "text/plain": [
                            "<Figure size 640x480 with 1 Axes>"
                        ]
                    },
                    "metadata": {},
                    "output_type": "display_data"
                }
            ],
            "source": [
                "# Raíz aproximada da função.\n",
                "\n",
                "root = opt.fsolve(f_a, 1) # 1 é o palpite inicial\n",
                "\n",
                "# Definindo o intervalo e tolerância\n",
                "\n",
                "a = 1\n",
                "\n",
                "b = 3\n",
                "\n",
                "print(\"A raiz aproximada é: \", root[0], \"\\n\")\n",
                "\n",
                "x_vals = np.linspace(a, b, 100)\n",
                "y_vals = f_a(x_vals)\n",
                "\n",
                "plt.plot(x_vals, y_vals)\n",
                "plt.plot(x_vals,[0 for i in range(len(x_vals))],color=\"k\")\n",
                "plt.scatter(root[0],f_a(root)[0],color=\"r\",marker=\"+\")\n",
                "plt.ylabel(\"f(x)\")\n",
                "plt.xlabel(\"x\")\n",
                "plt.grid()\n",
                "plt.show()\n"
            ]
        },
        {
            "cell_type": "markdown",
            "metadata": {},
            "source": [
                "## Método da Bisseção"
            ]
        },
        {
            "cell_type": "code",
            "execution_count": 14,
            "metadata": {},
            "outputs": [
                {
                    "name": "stdout",
                    "output_type": "stream",
                    "text": [
                        "Critério de parada atingido\n",
                        "O valor da raíz é:  2.0\n",
                        "O número de iterações foi de:  1\n"
                    ]
                }
            ],
            "source": [
                "e = 0.001\n",
                "\n",
                "imax = 15\n",
                "\n",
                "bolz_teo(a,b,imax,e,f_a)"
            ]
        },
        {
            "cell_type": "markdown",
            "metadata": {},
            "source": [
                "## Método de Newton"
            ]
        },
        {
            "cell_type": "code",
            "execution_count": 15,
            "metadata": {},
            "outputs": [
                {
                    "name": "stdout",
                    "output_type": "stream",
                    "text": [
                        "\n",
                        "\n",
                        " Raíz 2.094551 \n",
                        " iterações: 9 \n",
                        " f(2.094551)=0.000000 \n",
                        "\n",
                        "\n"
                    ]
                }
            ],
            "source": [
                "e = 0.000001  # Tolerância\n",
                "\n",
                "imax = 100  # Número máximo de iterações\n",
                "\n",
                "x0 = 1 # chute inicial\n",
                "\n",
                "Newton_met(x0,imax,e,f_a)"
            ]
        },
        {
            "cell_type": "markdown",
            "metadata": {},
            "source": [
                "## Método da Secante"
            ]
        },
        {
            "cell_type": "code",
            "execution_count": 18,
            "metadata": {},
            "outputs": [
                {
                    "name": "stdout",
                    "output_type": "stream",
                    "text": [
                        "Iteração-8, x2 = 2.094551 e f(x2) = -0.000000\n"
                    ]
                }
            ],
            "source": [
                "e = 0.000001  # Tolerância\n",
                "\n",
                "imax = 100  # Número máximo de iterações\n",
                "\n",
                "Sec_met(a,b,e,imax,f_a)"
            ]
        },
        {
            "cell_type": "markdown",
            "metadata": {},
            "source": [
                "# Letra B"
            ]
        },
        {
            "cell_type": "markdown",
            "metadata": {},
            "source": [
                "## Definições iniciais"
            ]
        },
        {
            "cell_type": "code",
            "execution_count": 19,
            "metadata": {},
            "outputs": [],
            "source": [
                "# Definindo função a ser estudada\n",
                "def f_b(x):\n",
                " return x*np.sin(x)-1\n"
            ]
        },
        {
            "cell_type": "code",
            "execution_count": 26,
            "metadata": {},
            "outputs": [
                {
                    "name": "stdout",
                    "output_type": "stream",
                    "text": [
                        "A raiz aproximada é:  2.772604708265991 \n",
                        "\n"
                    ]
                },
                {
                    "data": {
                        "image/png": "[encoded data removed]",
                        "text/plain": [
                            "<Figure size 640x480 with 1 Axes>"
                        ]
                    },
                    "metadata": {},
                    "output_type": "display_data"
                }
            ],
            "source": [
                "# Raíz aproximada da função.\n",
                "\n",
                "root = opt.fsolve(f_b, 3) # 1 é o palpite inicial\n",
                "\n",
                "# Definindo o intervalo e tolerância\n",
                "\n",
                "a = 1.8\n",
                "\n",
                "b = 4\n",
                "\n",
                "print(\"A raiz aproximada é: \", root[0], \"\\n\")\n",
                "\n",
                "x_vals = np.linspace(a, b, 100)\n",
                "y_vals = f_b(x_vals)\n",
                "\n",
                "plt.plot(x_vals, y_vals)\n",
                "plt.plot(x_vals,[0 for i in range(len(x_vals))],color=\"k\")\n",
                "plt.scatter(root[0],f_b(root)[0],color=\"r\",marker=\"+\")\n",
                "plt.ylabel(\"f(x)\")\n",
                "plt.xlabel(\"x\")\n",
                "plt.grid()\n",
                "plt.show()\n"
            ]
        },
        {
            "cell_type": "markdown",
            "metadata": {},
            "source": [
                "## Método da Bisseção"
            ]
        },
        {
            "cell_type": "code",
            "execution_count": 30,
            "metadata": {},
            "outputs": [
                {
                    "name": "stdout",
                    "output_type": "stream",
                    "text": [
                        "O valor da raíz é:  2.772705078125\n",
                        "O número de iterações foi de:  1\n"
                    ]
                }
            ],
            "source": [
                "e = 0.001\n",
                "\n",
                "imax = 15\n",
                "\n",
                "bolz_teo(a, b, imax, e, f_b)"
            ]
        },
        {
            "cell_type": "markdown",
            "metadata": {},
            "source": [
                "## Método de Newton"
            ]
        },
        {
            "cell_type": "code",
            "execution_count": 32,
            "metadata": {},
            "outputs": [
                {
                    "name": "stdout",
                    "output_type": "stream",
                    "text": [
                        "\n",
                        "\n",
                        " Raíz 2.772605 \n",
                        " iterações: 4 \n",
                        " f(2.772605)=-0.000000 \n",
                        "\n",
                        "\n"
                    ]
                }
            ],
            "source": [
                "e = 0.000001  # Tolerância\n",
                "\n",
                "imax = 100  # Número máximo de iterações\n",
                "\n",
                "x0 = 3 # chute inicial\n",
                "\n",
                "Newton_met(x0,imax,e,f_b)"
            ]
        },
        {
            "cell_type": "markdown",
            "metadata": {},
            "source": [
                "## Método da Secante"
            ]
        },
        {
            "cell_type": "code",
            "execution_count": 34,
            "metadata": {},
            "outputs": [
                {
                    "name": "stdout",
                    "output_type": "stream",
                    "text": [
                        "Iteração-9, x2 = 2.772605 e f(x2) = 0.000000\n"
                    ]
                }
            ],
            "source": [
                "e = 0.000001  # Tolerância\n",
                "\n",
                "imax = 100  # Número máximo de iterações\n",
                "\n",
                "Sec_met(a,b,e,imax,f_b)"
            ]
        },
        {
            "cell_type": "markdown",
            "metadata": {},
            "source": [
                "# Letra C"
            ]
        },
        {
            "cell_type": "markdown",
            "metadata": {},
            "source": [
                "## Definições iniciais"
            ]
        },
        {
            "cell_type": "code",
            "execution_count": 35,
            "metadata": {},
            "outputs": [],
            "source": [
                "# Definindo função a ser estudada\n",
                "def f_c(x):\n",
                " return x*np.sin(x)-1\n"
            ]
        },
        {
            "cell_type": "code",
            "execution_count": 36,
            "metadata": {},
            "outputs": [
                {
                    "name": "stdout",
                    "output_type": "stream",
                    "text": [
                        "A raiz aproximada é:  2.772604708265991 \n",
                        "\n"
                    ]
                },
                {
                    "data": {
                        "image/png": "[encoded data removed]",
                        "text/plain": [
                            "<Figure size 640x480 with 1 Axes>"
                        ]
                    },
                    "metadata": {},
                    "output_type": "display_data"
                }
            ],
            "source": [
                "# Raíz aproximada da função.\n",
                "\n",
                "root = opt.fsolve(f_c, 3) # 1 é o palpite inicial\n",
                "\n",
                "# Definindo o intervalo e tolerância\n",
                "\n",
                "a = 1.8\n",
                "\n",
                "b = 4\n",
                "\n",
                "print(\"A raiz aproximada é: \", root[0], \"\\n\")\n",
                "\n",
                "x_vals = np.linspace(a, b, 100)\n",
                "y_vals = f_c(x_vals)\n",
                "\n",
                "plt.plot(x_vals, y_vals)\n",
                "plt.plot(x_vals,[0 for i in range(len(x_vals))],color=\"k\")\n",
                "plt.scatter(root[0],f_c(root)[0],color=\"r\",marker=\"+\")\n",
                "plt.ylabel(\"f(x)\")\n",
                "plt.xlabel(\"x\")\n",
                "plt.grid()\n",
                "plt.show()\n"
            ]
        },
        {
            "cell_type": "markdown",
            "metadata": {},
            "source": [
                "## Método da Bisseção"
            ]
        },
        {
            "cell_type": "code",
            "execution_count": 37,
            "metadata": {},
            "outputs": [
                {
                    "name": "stdout",
                    "output_type": "stream",
                    "text": [
                        "O valor da raíz é:  2.772705078125\n",
                        "O número de iterações foi de:  1\n"
                    ]
                }
            ],
            "source": [
                "e = 0.001\n",
                "\n",
                "imax = 15\n",
                "\n",
                "bolz_teo(a, b, imax, e, f_c)"
            ]
        },
        {
            "cell_type": "markdown",
            "metadata": {},
            "source": [
                "## Método de Newton"
            ]
        },
        {
            "cell_type": "code",
            "execution_count": 38,
            "metadata": {},
            "outputs": [
                {
                    "name": "stdout",
                    "output_type": "stream",
                    "text": [
                        "\n",
                        "\n",
                        " Raíz 2.772605 \n",
                        " iterações: 4 \n",
                        " f(2.772605)=-0.000000 \n",
                        "\n",
                        "\n"
                    ]
                }
            ],
            "source": [
                "e = 0.000001  # Tolerância\n",
                "\n",
                "imax = 100  # Número máximo de iterações\n",
                "\n",
                "x0 = 3 # chute inicial\n",
                "\n",
                "Newton_met(x0,imax,e,f_c)"
            ]
        },
        {
            "cell_type": "markdown",
            "metadata": {},
            "source": [
                "## Método da Secante"
            ]
        },
        {
            "cell_type": "code",
            "execution_count": 39,
            "metadata": {},
            "outputs": [
                {
                    "name": "stdout",
                    "output_type": "stream",
                    "text": [
                        "Iteração-9, x2 = 2.772605 e f(x2) = 0.000000\n"
                    ]
                }
            ],
            "source": [
                "e = 0.000001  # Tolerância\n",
                "\n",
                "imax = 100  # Número máximo de iterações\n",
                "\n",
                "Sec_met(a,b,e,imax,f_c)"
            ]
        },
        {
            "cell_type": "code",
            "execution_count": null,
            "metadata": {},
            "outputs": [],
            "source": []
        }
    ],
    "metadata": {
        "kernelspec": {
            "display_name": "Python 3",
            "language": "python",
            "name": "python3"
        },
        "language_info": {
            "codemirror_mode": {
                "name": "ipython",
                "version": 3
            },
            "file_extension": ".py",
            "mimetype": "text/x-python",
            "name": "python",
            "nbconvert_exporter": "python",
            "pygments_lexer": "ipython3",
            "version": "3.11.4"
        },
        "orig_nbformat": 4
    },
    "nbformat": 4,
    "nbformat_minor": 2
}
