{
    "cells": [
        {
            "cell_type": "markdown",
            "metadata": {},
            "source": [
                "# Imports necessários"
            ]
        },
        {
            "cell_type": "code",
            "execution_count": 9,
            "metadata": {},
            "outputs": [],
            "source": [
                "import numpy as np\n",
                "import pandas as pd"
            ]
        },
        {
            "cell_type": "markdown",
            "metadata": {},
            "source": [
                "# Implementação dos métodos"
            ]
        },
        {
            "cell_type": "markdown",
            "metadata": {},
            "source": [
                "## Jacobiano"
            ]
        },
        {
            "cell_type": "code",
            "execution_count": 10,
            "metadata": {},
            "outputs": [],
            "source": [
                "def calcular_matriz_jacobiana(x):\n",
                "    J = np.empty([3, 3])\n",
                "    J[0][0] = 64 * x[0]**3\n",
                "    J[0][1] = 64 * x[1]**3\n",
                "    J[0][2] = 4 * x[2]**3\n",
                "    J[1][0] = 2 * x[0]\n",
                "    J[1][1] = 2 * x[1]\n",
                "    J[1][2] = 2 * x[2]\n",
                "    J[2][0] = 3 * x[0]\n",
                "    J[2][1] = -1\n",
                "    J[2][2] = 0\n",
                "    return J\n"
            ]
        },
        {
            "cell_type": "markdown",
            "metadata": {},
            "source": [
                "## Calculo do resíduo"
            ]
        },
        {
            "cell_type": "code",
            "execution_count": 11,
            "metadata": {},
            "outputs": [],
            "source": [
                "def calcular_residuo(x):\n",
                "    F = np.empty([3, 1])\n",
                "    F[0] = 16 * x[0]**4 + 16 * x[1]**4 + x[2]**4 - 16\n",
                "    F[1] = x[0]**2 + x[1]**2 + x[2]**2 - 3\n",
                "    F[2] = x[0]**3 - x[1]\n",
                "    return F\n"
            ]
        },
        {
            "cell_type": "markdown",
            "metadata": {},
            "source": [
                "## Método de Newton"
            ]
        },
        {
            "cell_type": "code",
            "execution_count": 14,
            "metadata": {},
            "outputs": [],
            "source": [
                "def metodo_de_newton(x0, tol, imax):\n",
                "    result_dict = {\"I\": [], \"x\": [], \"y\": [], \"z\": [], \"Erro\": []}\n",
                "    for i in range(imax):\n",
                "        J = calcular_matriz_jacobiana(x0)\n",
                "        F = calcular_residuo(x0)\n",
                "        dx = np.linalg.solve(J, -F)\n",
                "        x = x0 + dx\n",
                "        error = np.linalg.norm(dx) / np.linalg.norm(x)\n",
                "        result_dict[\"I\"].append(i)\n",
                "        result_dict[\"x\"].append(x[0][0])\n",
                "        result_dict[\"y\"].append(x[1][0])\n",
                "        result_dict[\"z\"].append(x[2][0])\n",
                "        result_dict[\"Erro\"].append(error)\n",
                "        if error < tol:\n",
                "            break\n",
                "        x0 = x\n",
                "    return pd.DataFrame(result_dict),x"
            ]
        },
        {
            "cell_type": "markdown",
            "metadata": {},
            "source": [
                "# Aplicação"
            ]
        },
        {
            "cell_type": "code",
            "execution_count": 15,
            "metadata": {},
            "outputs": [
                {
                    "data": {
                        "text/html": [
                            "<div>\n",
                            "<style scoped>\n",
                            "    .dataframe tbody tr th:only-of-type {\n",
                            "        vertical-align: middle;\n",
                            "    }\n",
                            "\n",
                            "    .dataframe tbody tr th {\n",
                            "        vertical-align: top;\n",
                            "    }\n",
                            "\n",
                            "    .dataframe thead th {\n",
                            "        text-align: right;\n",
                            "    }\n",
                            "</style>\n",
                            "<table border=\"1\" class=\"dataframe\">\n",
                            "  <thead>\n",
                            "    <tr style=\"text-align: right;\">\n",
                            "      <th></th>\n",
                            "      <th>I</th>\n",
                            "      <th>x</th>\n",
                            "      <th>y</th>\n",
                            "      <th>z</th>\n",
                            "      <th>Erro</th>\n",
                            "    </tr>\n",
                            "  </thead>\n",
                            "  <tbody>\n",
                            "    <tr>\n",
                            "      <th>0</th>\n",
                            "      <td>0</td>\n",
                            "      <td>0.929167</td>\n",
                            "      <td>0.787500</td>\n",
                            "      <td>1.283333</td>\n",
                            "      <td>2.041366e-01</td>\n",
                            "    </tr>\n",
                            "    <tr>\n",
                            "      <th>1</th>\n",
                            "      <td>1</td>\n",
                            "      <td>0.888912</td>\n",
                            "      <td>0.689988</td>\n",
                            "      <td>1.321490</td>\n",
                            "      <td>6.463336e-02</td>\n",
                            "    </tr>\n",
                            "    <tr>\n",
                            "      <th>2</th>\n",
                            "      <td>2</td>\n",
                            "      <td>0.878871</td>\n",
                            "      <td>0.675610</td>\n",
                            "      <td>1.330990</td>\n",
                            "      <td>1.151407e-02</td>\n",
                            "    </tr>\n",
                            "    <tr>\n",
                            "      <th>3</th>\n",
                            "      <td>3</td>\n",
                            "      <td>0.878024</td>\n",
                            "      <td>0.676619</td>\n",
                            "      <td>1.330888</td>\n",
                            "      <td>7.628694e-04</td>\n",
                            "    </tr>\n",
                            "    <tr>\n",
                            "      <th>4</th>\n",
                            "      <td>4</td>\n",
                            "      <td>0.877969</td>\n",
                            "      <td>0.676748</td>\n",
                            "      <td>1.330858</td>\n",
                            "      <td>8.252706e-05</td>\n",
                            "    </tr>\n",
                            "    <tr>\n",
                            "      <th>5</th>\n",
                            "      <td>5</td>\n",
                            "      <td>0.877966</td>\n",
                            "      <td>0.676756</td>\n",
                            "      <td>1.330856</td>\n",
                            "      <td>5.401298e-06</td>\n",
                            "    </tr>\n",
                            "    <tr>\n",
                            "      <th>6</th>\n",
                            "      <td>6</td>\n",
                            "      <td>0.877966</td>\n",
                            "      <td>0.676757</td>\n",
                            "      <td>1.330855</td>\n",
                            "      <td>3.424615e-07</td>\n",
                            "    </tr>\n",
                            "    <tr>\n",
                            "      <th>7</th>\n",
                            "      <td>7</td>\n",
                            "      <td>0.877966</td>\n",
                            "      <td>0.676757</td>\n",
                            "      <td>1.330855</td>\n",
                            "      <td>2.159327e-08</td>\n",
                            "    </tr>\n",
                            "    <tr>\n",
                            "      <th>8</th>\n",
                            "      <td>8</td>\n",
                            "      <td>0.877966</td>\n",
                            "      <td>0.676757</td>\n",
                            "      <td>1.330855</td>\n",
                            "      <td>1.361013e-09</td>\n",
                            "    </tr>\n",
                            "  </tbody>\n",
                            "</table>\n",
                            "</div>"
                        ],
                        "text/plain": [
                            "   I         x         y         z          Erro\n",
                            "0  0  0.929167  0.787500  1.283333  2.041366e-01\n",
                            "1  1  0.888912  0.689988  1.321490  6.463336e-02\n",
                            "2  2  0.878871  0.675610  1.330990  1.151407e-02\n",
                            "3  3  0.878024  0.676619  1.330888  7.628694e-04\n",
                            "4  4  0.877969  0.676748  1.330858  8.252706e-05\n",
                            "5  5  0.877966  0.676756  1.330856  5.401298e-06\n",
                            "6  6  0.877966  0.676757  1.330855  3.424615e-07\n",
                            "7  7  0.877966  0.676757  1.330855  2.159327e-08\n",
                            "8  8  0.877966  0.676757  1.330855  1.361013e-09"
                        ]
                    },
                    "execution_count": 15,
                    "metadata": {},
                    "output_type": "execute_result"
                }
            ],
            "source": [
                "# Aproximação inicial\n",
                "x0 = np.empty([3, 1])\n",
                "x0[0] = 1\n",
                "x0[1] = 1\n",
                "x0[2] = 1\n",
                "\n",
                "# Chamada do Método de Newton\n",
                "iter,x = metodo_de_newton(x0, 1.0E-8, 40)\n",
                "iter"
            ]
        }
    ],
    "metadata": {
        "kernelspec": {
            "display_name": "Python 3",
            "language": "python",
            "name": "python3"
        },
        "language_info": {
            "codemirror_mode": {
                "name": "ipython",
                "version": 3
            },
            "file_extension": ".py",
            "mimetype": "text/x-python",
            "name": "python",
            "nbconvert_exporter": "python",
            "pygments_lexer": "ipython3",
            "version": "3.11.4"
        },
        "orig_nbformat": 4
    },
    "nbformat": 4,
    "nbformat_minor": 2
}
