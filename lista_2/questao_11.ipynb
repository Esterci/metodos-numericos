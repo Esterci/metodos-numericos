{
 "cells": [
  {
   "cell_type": "markdown",
   "metadata": {},
   "source": [
    "# Imports necessários"
   ]
  },
  {
   "cell_type": "code",
   "execution_count": 2,
   "metadata": {},
   "outputs": [],
   "source": [
    "import numpy as np\n",
    "import pandas as pd"
   ]
  },
  {
   "cell_type": "markdown",
   "metadata": {},
   "source": [
    "# Letra A"
   ]
  },
  {
   "cell_type": "markdown",
   "metadata": {},
   "source": [
    " - Método de Newton e seu teste com $x_0=10$."
   ]
  },
  {
   "cell_type": "code",
   "execution_count": 3,
   "metadata": {},
   "outputs": [
    {
     "name": "stdout",
     "output_type": "stream",
     "text": [
      "Método de Newton:\n",
      "Raiz encontrada: 7.952239598155858e-10\n",
      "Iterações: 4\n"
     ]
    }
   ],
   "source": [
    "# Definição da função arco tangente (arctan(x)).\n",
    "def arco_tangente(x):\n",
    "    return np.arctan(x)\n",
    "\n",
    "\n",
    "# Definição da derivada usando diferenças finitas.\n",
    "def derivada(x):\n",
    "    h = 0.000001\n",
    "    return (arco_tangente(x + h) - arco_tangente(x)) / h\n",
    "\n",
    "\n",
    "def metodo_newton(x0, tol=1e-6, max_iter=100):\n",
    "    x = x0\n",
    "    for i in range(max_iter):\n",
    "        f_x = arco_tangente(x)\n",
    "        if abs(f_x) < tol:\n",
    "            return x, i\n",
    "        x -= f_x / (derivada(x) + 1e-12)\n",
    "    return x, i\n",
    "\n",
    "\n",
    "# Teste do método de Newton com x0 = 1.\n",
    "chute_inicial = 1\n",
    "raiz, iteracoes = metodo_newton(chute_inicial)\n",
    "\n",
    "print(f\"Raiz encontrada: {raiz}\")\n",
    "print(f\"Iterações: {iteracoes}\")"
   ]
  },
  {
   "cell_type": "markdown",
   "metadata": {},
   "source": [
    "# Letra B"
   ]
  },
  {
   "cell_type": "markdown",
   "metadata": {},
   "source": [
    "- Utilizando Line search"
   ]
  },
  {
   "cell_type": "code",
   "execution_count": 5,
   "metadata": {},
   "outputs": [
    {
     "name": "stdout",
     "output_type": "stream",
     "text": [
      "Raiz encontrada: -138.58391283373854\n",
      "Iterações: 99\n"
     ]
    }
   ],
   "source": [
    "def line_search(f, df, x, direction, imax=100):\n",
    "    alpha = 1.0\n",
    "    while f(x + alpha * direction) > f(x) + alpha * 0.5 * df(x) * direction:\n",
    "        alpha *= 10**-2\n",
    "    return alpha\n",
    "\n",
    "\n",
    "def newton_line_search(x0, tol=1e-6, imax=100):\n",
    "    x = x0\n",
    "    for i in range(imax):\n",
    "        fx = arco_tangente(x)\n",
    "        if abs(fx) < tol:\n",
    "            return x, i\n",
    "        direction = -fx / derivada(x)\n",
    "        step_size = line_search(arco_tangente, derivada, x, direction)\n",
    "        x += step_size * direction\n",
    "    return x, i\n",
    "\n",
    "\n",
    "# Execução do método de Newton com Globalização Line Search com x0 = 10.\n",
    "x0 = 10\n",
    "root_line_search, iterations_line_search = newton_line_search(x0)\n",
    "\n",
    "print(f\"Raiz encontrada: {root_line_search}\")\n",
    "print(f\"Iterações: {iterations_line_search}\")"
   ]
  },
  {
   "cell_type": "markdown",
   "metadata": {},
   "source": [
    "# Conclusões\n",
    " \n",
    "\n",
    "Conforme antecipado, ambos os métodos não convergiram, já que a raiz de $arctan(x)$ é $0$ e o valor inicial (chute) de $10$ está consideravelmente distante da raiz. Além disso, $arctan(x)$ exibe um comportamento especial, com sua derivada se aproximando muito de zero para valores distantes de $x=0$. Isso resulta na divergência esperada do Método de Newton, uma vez que ele realiza a divisão pelo valor da derivada de $f$.\n",
    "\n",
    "Como uma prova de conceito, foi empregada a função $x^3 - 2x - 5$, na qual ambos os métodos convergiram."
   ]
  },
  {
   "cell_type": "code",
   "execution_count": 8,
   "metadata": {},
   "outputs": [
    {
     "name": "stdout",
     "output_type": "stream",
     "text": [
      "Raiz encontrada: 1.0\n",
      "Iterações: 99\n",
      "Raiz encontrada: 2.094551481567731\n",
      "Iterações: 8\n"
     ]
    }
   ],
   "source": [
    "# Definição da função arco tangente (arctan(x)).\n",
    "def f(x):\n",
    "    return x**3 - 2 * x - 5\n",
    "\n",
    "\n",
    "# Definição da derivada usando diferenças finitas.\n",
    "def derivada(x):\n",
    "    h = 0.000001\n",
    "    return (f(x + h) - f(x)) / h\n",
    "\n",
    "\n",
    "def metodo_newton(x0, tol=1e-6, max_iter=100):\n",
    "    x = x0\n",
    "    for i in range(max_iter):\n",
    "        f_x = f(x)\n",
    "        if abs(f_x) < tol:\n",
    "            return x, i\n",
    "        x -= f_x / (derivada(x) + 1e-12)\n",
    "    return x, i\n",
    "\n",
    "\n",
    "def line_search(f, df, x, direction, imax=100):\n",
    "    alpha = 1.0\n",
    "    while f(x + alpha * direction) > f(x) + alpha * 0.5 * df(x) * direction:\n",
    "        alpha *= 10**-2\n",
    "    return alpha\n",
    "\n",
    "\n",
    "def newton_line_search(x0, tol=1e-6, imax=100):\n",
    "    x = x0\n",
    "    for i in range(imax):\n",
    "        fx = f(x)\n",
    "        if abs(fx) < tol:\n",
    "            return x, i\n",
    "        direction = -fx / derivada(x)\n",
    "        step_size = line_search(f, derivada, x, direction)\n",
    "        x += step_size * direction\n",
    "    return x, i\n",
    "\n",
    "\n",
    "# Execução do método de Newton com Globalização Line Search com x0 = 10.\n",
    "x0 = 1\n",
    "root_line_search, iterations_line_search = newton_line_search(x0)\n",
    "\n",
    "print(f\"Raiz encontrada: {root_line_search}\")\n",
    "print(f\"Iterações: {iterations_line_search}\")\n",
    "\n",
    "# Teste do método de Newton com x0 = 1.\n",
    "chute_inicial = 1\n",
    "raiz, iteracoes = metodo_newton(chute_inicial)\n",
    "\n",
    "print(f\"Raiz encontrada: {raiz}\")\n",
    "print(f\"Iterações: {iteracoes}\")"
   ]
  },
  {
   "cell_type": "code",
   "execution_count": null,
   "metadata": {},
   "outputs": [],
   "source": []
  }
 ],
 "metadata": {
  "kernelspec": {
   "display_name": "Python 3",
   "language": "python",
   "name": "python3"
  },
  "language_info": {
   "codemirror_mode": {
    "name": "ipython",
    "version": 3
   },
   "file_extension": ".py",
   "mimetype": "text/x-python",
   "name": "python",
   "nbconvert_exporter": "python",
   "pygments_lexer": "ipython3",
   "version": "3.11.4"
  },
  "orig_nbformat": 4
 },
 "nbformat": 4,
 "nbformat_minor": 2
}
