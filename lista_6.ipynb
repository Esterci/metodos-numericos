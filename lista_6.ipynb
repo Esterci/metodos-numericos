{
 "cells": [
  {
   "cell_type": "code",
   "execution_count": 1,
   "metadata": {},
   "outputs": [],
   "source": [
    "import numpy as np\n",
    "import sympy\n",
    "import pandas as pd"
   ]
  },
  {
   "cell_type": "markdown",
   "metadata": {},
   "source": [
    "## Questão 1"
   ]
  },
  {
   "cell_type": "markdown",
   "metadata": {},
   "source": [
    "## Para $sen(x)$"
   ]
  },
  {
   "cell_type": "code",
   "execution_count": 27,
   "metadata": {},
   "outputs": [
    {
     "data": {
      "text/plain": [
       "0.9092974268256817"
      ]
     },
     "execution_count": 27,
     "metadata": {},
     "output_type": "execute_result"
    }
   ],
   "source": [
    "# Implementando a função em questão\n",
    "def f1 (x):\n",
    "  return -np.cos(x)\n",
    "\n",
    "def f1_dot (x):\n",
    "  return np.sin(x)\n",
    "\n",
    "# Implemente uma função para diferencição progressiva: dfp\n",
    "def diferencicao_progressiva(x,h):\n",
    "  return (f1(x+h)-f1(x))/h\n",
    "\n",
    "# Implemente uma função para diferenciação regressiva: dfr\n",
    "def diferencicao_regressiva(x,h):\n",
    "  return (f1(x)-f1(x-h))/h\n",
    "\n",
    "# Implemente uma função para diferenciação central: dfc\n",
    "def diferencicao_central(x,h):\n",
    "  return (f1(x+h)-f1(x-h))/(2*h)\n",
    "\n",
    "x = 2\n",
    "\n",
    "resultado_exato = f1_dot(x)\n",
    "resultado_exato"
   ]
  },
  {
   "cell_type": "code",
   "execution_count": 28,
   "metadata": {},
   "outputs": [
    {
     "name": "stdout",
     "output_type": "stream",
     "text": [
      "erro_dfp:  0.002095871724703491\n",
      "erro_dfr:  0.0020655619620078003\n",
      "erro_dfc:  1.5154881347845262e-05\n"
     ]
    }
   ],
   "source": [
    "# Calcula o erro para h = 10^-2\n",
    "\n",
    "h = 10**-2\n",
    "\n",
    "dfp = diferencicao_progressiva(x,h)\n",
    "dfr = diferencicao_regressiva(x,h)\n",
    "dfc = diferencicao_central(x,h)\n",
    "\n",
    "print(\"erro_dfp: \",abs((resultado_exato-dfp)))\n",
    "print(\"erro_dfr: \",abs((resultado_exato-dfr)))\n",
    "print(\"erro_dfc: \",abs((resultado_exato-dfc)))\n"
   ]
  },
  {
   "cell_type": "code",
   "execution_count": 30,
   "metadata": {},
   "outputs": [
    {
     "name": "stdout",
     "output_type": "stream",
     "text": [
      "erro_dfp:  0.0002289954249209114\n",
      "erro_dfr:  0.00022866209134392342\n",
      "erro_dfc:  1.6666678849399138e-07\n"
     ]
    }
   ],
   "source": [
    "# Calcula o erro para h = 10^-3\n",
    "\n",
    "h = 10**-3\n",
    "\n",
    "dfp = diferencicao_progressiva(x,h)\n",
    "dfr = diferencicao_regressiva(x,h)\n",
    "dfc = diferencicao_central(x,h)\n",
    "\n",
    "print(\"erro_dfp: \",((resultado_exato-dfp)**2)**0.5/resultado_exato)\n",
    "print(\"erro_dfr: \",((resultado_exato-dfr)**2)**0.5/resultado_exato)  \n",
    "print(\"erro_dfc: \",((resultado_exato-dfc)**2)**0.5/resultado_exato)  "
   ]
  },
  {
   "cell_type": "markdown",
   "metadata": {},
   "source": [
    "## para $e^{-x}$"
   ]
  },
  {
   "cell_type": "code",
   "execution_count": 31,
   "metadata": {},
   "outputs": [],
   "source": [
    "# Implementando a função em questão\n",
    "def f2 (x):\n",
    "  return -np.exp(-x)\n",
    "\n",
    "def f2_dot (x):\n",
    "  return np.exp(-x)\n",
    "\n",
    "# Implemente uma função para diferencição progressiva: dfp\n",
    "def diferencicao_progressiva(x,h):\n",
    "  return (f2(x+h)-f2(x))/h\n",
    "\n",
    "# Implemente uma função para diferenciação regressiva: dfr\n",
    "def diferencicao_regressiva(x,h):\n",
    "  return (f2(x)-f2(x-h))/h\n",
    "\n",
    "# Implemente uma função para diferenciação central: dfc\n",
    "def diferencicao_central(x,h):\n",
    "  return (f2(x+h)-f2(x-h))/(2*h)\n",
    "\n",
    "x = 1\n",
    "\n",
    "resultado_exato = f2_dot(x)"
   ]
  },
  {
   "cell_type": "code",
   "execution_count": 33,
   "metadata": {},
   "outputs": [
    {
     "name": "stdout",
     "output_type": "stream",
     "text": [
      "erro_dfp:  0.00498337491680396\n",
      "erro_dfr:  0.005016708416808476\n",
      "erro_dfc:  1.6666750002257943e-05\n"
     ]
    }
   ],
   "source": [
    "# Calcula o erro para h = 10^-2\n",
    "\n",
    "h = 10**-2\n",
    "\n",
    "dfp = diferencicao_progressiva(x,h)\n",
    "dfr = diferencicao_regressiva(x,h)\n",
    "dfc = diferencicao_central(x,h)\n",
    "\n",
    "print(\"erro_dfp: \",((resultado_exato-dfp)**2)**0.5/resultado_exato)\n",
    "print(\"erro_dfr: \",((resultado_exato-dfr)**2)**0.5/resultado_exato)  \n",
    "print(\"erro_dfc: \",((resultado_exato-dfc)**2)**0.5/resultado_exato)  "
   ]
  },
  {
   "cell_type": "code",
   "execution_count": 34,
   "metadata": {},
   "outputs": [
    {
     "name": "stdout",
     "output_type": "stream",
     "text": [
      "erro_dfp:  0.0004998333750836789\n",
      "erro_dfr:  0.0005001667082544125\n",
      "erro_dfc:  1.6666658536678196e-07\n"
     ]
    }
   ],
   "source": [
    "# Calcula o erro para h = 10^-3\n",
    "\n",
    "h = 10**-3\n",
    "\n",
    "dfp = diferencicao_progressiva(x,h)\n",
    "dfr = diferencicao_regressiva(x,h)\n",
    "dfc = diferencicao_central(x,h)\n",
    "\n",
    "print(\"erro_dfp: \",((resultado_exato-dfp)**2)**0.5/resultado_exato)\n",
    "print(\"erro_dfr: \",((resultado_exato-dfr)**2)**0.5/resultado_exato)  \n",
    "print(\"erro_dfc: \",((resultado_exato-dfc)**2)**0.5/resultado_exato)  "
   ]
  },
  {
   "cell_type": "code",
   "execution_count": null,
   "metadata": {},
   "outputs": [],
   "source": []
  }
 ],
 "metadata": {
  "kernelspec": {
   "display_name": "base",
   "language": "python",
   "name": "python3"
  },
  "language_info": {
   "codemirror_mode": {
    "name": "ipython",
    "version": 3
   },
   "file_extension": ".py",
   "mimetype": "text/x-python",
   "name": "python",
   "nbconvert_exporter": "python",
   "pygments_lexer": "ipython3",
   "version": "3.11.3"
  },
  "orig_nbformat": 4
 },
 "nbformat": 4,
 "nbformat_minor": 2
}
