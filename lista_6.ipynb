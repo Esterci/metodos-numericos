{
 "cells": [
  {
   "cell_type": "code",
   "execution_count": 2,
   "metadata": {},
   "outputs": [],
   "source": [
    "import numpy as np\n",
    "import sympy\n",
    "import pandas as pd"
   ]
  },
  {
   "cell_type": "markdown",
   "metadata": {},
   "source": [
    "# Exercícios"
   ]
  },
  {
   "cell_type": "markdown",
   "metadata": {},
   "source": [
    "## Questão 1\n",
    "\n",
    "Use os esquemas numéricos de diferença finita regressiva de ordem 1, diferença finita progressiva de ordem 1 e diferença finita central de ordem 2 para aproximar as seguintes derivadas:\n",
    "\n",
    "- $–f'(x) = sin(x)$ e $x = 2$\n",
    "\n",
    "- $–f'(x) = e^{−x}$ e $x = 1$\n",
    "\n",
    "Use h = 10−2 e h = 10−3, compare com os valores obtidos através da avaliação numérica das derivadas exatas."
   ]
  },
  {
   "cell_type": "markdown",
   "metadata": {},
   "source": [
    "### Para $f'(x)=sen(x)$: $f(x)=-cos(x)$"
   ]
  },
  {
   "cell_type": "code",
   "execution_count": 10,
   "metadata": {},
   "outputs": [
    {
     "name": "stdout",
     "output_type": "stream",
     "text": [
      "resultado_exato: 0.90929743\n"
     ]
    }
   ],
   "source": [
    "# Implementando funções para calcular as derivadas\n",
    "\n",
    "\n",
    "# Implementando a função em questão\n",
    "def f1(x):\n",
    "    return -np.cos(x)\n",
    "\n",
    "\n",
    "def f1_dot(x):\n",
    "    return np.sin(x)\n",
    "\n",
    "\n",
    "# Implemente uma função para diferencição progressiva: dfp\n",
    "def diferencicao_progressiva(x, h):\n",
    "    return (f1(x + h) - f1(x)) / h\n",
    "\n",
    "\n",
    "# Implemente uma função para diferenciação regressiva: dfr\n",
    "def diferencicao_regressiva(x, h):\n",
    "    return (f1(x) - f1(x - h)) / h\n",
    "\n",
    "\n",
    "# Implemente uma função para diferenciação central: dfc\n",
    "def diferencicao_central(x, h):\n",
    "    return (f1(x + h) - f1(x - h)) / (2 * h)\n",
    "\n",
    "\n",
    "x = 2\n",
    "\n",
    "resultado_exato = f1_dot(x)\n",
    "\n",
    "print(\"resultado_exato: {:.8f}\".format(resultado_exato))"
   ]
  },
  {
   "cell_type": "code",
   "execution_count": 4,
   "metadata": {},
   "outputs": [
    {
     "name": "stdout",
     "output_type": "stream",
     "text": [
      "dfr: 0.91136299\n",
      "dfp: 0.90720156\n",
      "dfc: 0.90928227\n",
      "____________________\n",
      "erro_dfr: 0.00206556\n",
      "erro_dfp: 0.00209587\n",
      "erro_dfc: 0.00001515\n"
     ]
    }
   ],
   "source": [
    "# Calcula o erro para h = 10^-2\n",
    "\n",
    "h = 10**-2\n",
    "\n",
    "dfp = diferencicao_progressiva(x, h)\n",
    "dfr = diferencicao_regressiva(x, h)\n",
    "dfc = diferencicao_central(x, h)\n",
    "\n",
    "print(\"dfr: {:.8f}\".format(dfr))\n",
    "print(\"dfp: {:.8f}\".format(dfp))\n",
    "print(\"dfc: {:.8f}\".format(dfc))\n",
    "print(\"_\" * 20)\n",
    "print(\"erro_dfr: {:.8f}\".format(abs((resultado_exato - dfr))))\n",
    "print(\"erro_dfp: {:.8f}\".format(abs((resultado_exato - dfp))))\n",
    "print(\"erro_dfc: {:.8f}\".format(abs((resultado_exato - dfc))))"
   ]
  },
  {
   "cell_type": "code",
   "execution_count": 5,
   "metadata": {},
   "outputs": [
    {
     "name": "stdout",
     "output_type": "stream",
     "text": [
      "dfr: 0.90950535\n",
      "dfp: 0.90908920\n",
      "dfc: 0.90929728\n",
      "____________________\n",
      "erro_dfr: 0.00020792\n",
      "erro_dfp: 0.00020822\n",
      "erro_dfc: 0.00000015\n"
     ]
    }
   ],
   "source": [
    "# Calcula o erro para h = 10^-3\n",
    "\n",
    "h = 10**-3\n",
    "\n",
    "dfp = diferencicao_progressiva(x, h)\n",
    "dfr = diferencicao_regressiva(x, h)\n",
    "dfc = diferencicao_central(x, h)\n",
    "\n",
    "print(\"dfr: {:.8f}\".format(dfr))\n",
    "print(\"dfp: {:.8f}\".format(dfp))\n",
    "print(\"dfc: {:.8f}\".format(dfc))\n",
    "print(\"_\" * 20)\n",
    "print(\"erro_dfr: {:.8f}\".format(abs((resultado_exato - dfr))))\n",
    "print(\"erro_dfp: {:.8f}\".format(abs((resultado_exato - dfp))))\n",
    "print(\"erro_dfc: {:.8f}\".format(abs((resultado_exato - dfc))))"
   ]
  },
  {
   "cell_type": "markdown",
   "metadata": {},
   "source": [
    "### para $f'(x)=e^{-x}:f(x)=-e^{-x}$"
   ]
  },
  {
   "cell_type": "code",
   "execution_count": 12,
   "metadata": {},
   "outputs": [
    {
     "name": "stdout",
     "output_type": "stream",
     "text": [
      "resultado_exato: 0.36787944\n"
     ]
    }
   ],
   "source": [
    "# Implementando funções para calcular as derivadas\n",
    "\n",
    "\n",
    "# Implementando a função em questão\n",
    "def f2(x):\n",
    "    return -np.exp(-x)\n",
    "\n",
    "\n",
    "def f2_dot(x):\n",
    "    return np.exp(-x)\n",
    "\n",
    "\n",
    "# Implemente uma função para diferencição progressiva: dfp\n",
    "def diferencicao_progressiva(x, h):\n",
    "    return (f2(x + h) - f2(x)) / h\n",
    "\n",
    "\n",
    "# Implemente uma função para diferenciação regressiva: dfr\n",
    "def diferencicao_regressiva(x, h):\n",
    "    return (f2(x) - f2(x - h)) / h\n",
    "\n",
    "\n",
    "# Implemente uma função para diferenciação central: dfc\n",
    "def diferencicao_central(x, h):\n",
    "    return (f2(x + h) - f2(x - h)) / (2 * h)\n",
    "\n",
    "\n",
    "x = 1\n",
    "\n",
    "resultado_exato = f2_dot(x)\n",
    "\n",
    "print(\"resultado_exato: {:.8f}\".format(resultado_exato))"
   ]
  },
  {
   "cell_type": "code",
   "execution_count": 7,
   "metadata": {},
   "outputs": [
    {
     "name": "stdout",
     "output_type": "stream",
     "text": [
      "dfr: 0.36972499\n",
      "dfp: 0.36604616\n",
      "dfc: 0.36788557\n",
      "____________________\n",
      "erro_dfr: 0.00184554\n",
      "erro_dfp: 0.00183328\n",
      "erro_dfc: 0.00000613\n"
     ]
    }
   ],
   "source": [
    "# Calcula o erro para h = 10^-2\n",
    "\n",
    "h = 10**-2\n",
    "\n",
    "dfp = diferencicao_progressiva(x, h)\n",
    "dfr = diferencicao_regressiva(x, h)\n",
    "dfc = diferencicao_central(x, h)\n",
    "\n",
    "print(\"dfr: {:.8f}\".format(dfr))\n",
    "print(\"dfp: {:.8f}\".format(dfp))\n",
    "print(\"dfc: {:.8f}\".format(dfc))\n",
    "print(\"_\" * 20)\n",
    "print(\"erro_dfr: {:.8f}\".format(abs((resultado_exato - dfr))))\n",
    "print(\"erro_dfp: {:.8f}\".format(abs((resultado_exato - dfp))))\n",
    "print(\"erro_dfc: {:.8f}\".format(abs((resultado_exato - dfc))))"
   ]
  },
  {
   "cell_type": "code",
   "execution_count": 8,
   "metadata": {},
   "outputs": [
    {
     "name": "stdout",
     "output_type": "stream",
     "text": [
      "dfr: 0.36806344\n",
      "dfp: 0.36769556\n",
      "dfc: 0.36787950\n",
      "____________________\n",
      "erro_dfr: 0.00018400\n",
      "erro_dfp: 0.00018388\n",
      "erro_dfc: 0.00000006\n"
     ]
    }
   ],
   "source": [
    "# Calcula o erro para h = 10^-3\n",
    "\n",
    "h = 10**-3\n",
    "\n",
    "dfp = diferencicao_progressiva(x, h)\n",
    "dfr = diferencicao_regressiva(x, h)\n",
    "dfc = diferencicao_central(x, h)\n",
    "\n",
    "print(\"dfr: {:.8f}\".format(dfr))\n",
    "print(\"dfp: {:.8f}\".format(dfp))\n",
    "print(\"dfc: {:.8f}\".format(dfc))\n",
    "print(\"_\" * 20)\n",
    "print(\"erro_dfr: {:.8f}\".format(abs((resultado_exato - dfr))))\n",
    "print(\"erro_dfp: {:.8f}\".format(abs((resultado_exato - dfp))))\n",
    "print(\"erro_dfc: {:.8f}\".format(abs((resultado_exato - dfc))))"
   ]
  },
  {
   "cell_type": "markdown",
   "metadata": {},
   "source": [
    "## Questão 2\n",
    "\n",
    "As tensões na entrada,$v_i$, e saída, $v_o$, de um amplificador foram medidas em regime estacionário conforme tabela abaixo:\n",
    "\n",
    "| Variable | x1 | x2 | x3 | x4 | x5 | x6 | x7 | x8 | x9 | x10 | x11 |\n",
    "|   ---    | --- | --- | --- | --- | --- | --- | --- | --- | --- | --- | --- |\n",
    "| $v_i$ | 0,0 | 0,50 | 1,00 | 1,50 | 2,00 | 2,50 | 3,00 | 3,50 | 4,00 | 4,50 | 5,00 |\n",
    "| $v_0$ |0,0 |1,05 |1,83 |2,69 |3,83 |4,56 |5,49 |6,56 |6,11 |7,06 |8,29 |\n",
    "\n",
    "onde a primeira linha é a tensão de entrada em volts e a segunda linha é tensão de saída em volts. Sabendo que o ganho é definido como\n",
    "\n",
    "$\\frac{\\partial v_0}{\\partial v_i}$\n",
    "\n",
    "Calcule o ganho quando $v_i = 1$ e $v_i = 4,5$ usando as seguintes técnicas:\n",
    "\n",
    "1. Derivada numérica de primeira ordem usando o próprio ponto e o próximo.\n",
    "\n",
    "1. Derivada numérica de primeira ordem usando o próprio ponto e o anterior.\n",
    "\n",
    "1. Derivada numérica de segunda ordem usando o ponto anterior e o próximo.\n",
    "\n",
    "1. Derivada analítica da função do tipo $v_o = a_1v_i+a_3v^3_i$ que melhor se ajusta aos pontos pelo critério dos mínimos quadrados."
   ]
  },
  {
   "cell_type": "code",
   "execution_count": 15,
   "metadata": {},
   "outputs": [],
   "source": [
    "# Implementando funções para calcular as derivadas\n",
    "\n",
    "# Criando dataframe para conter os dados\n",
    "\n",
    "df = pd.DataFrame(\n",
    "    {\n",
    "        \"v_i\": [0.0, 0.50, 1.00, 1.50, 2.00, 2.50, 3.00, 3.50, 4.00, 4.50, 5.00],\n",
    "        \"v_0\": [0.0, 1.05, 1.83, 2.69, 3.83, 4.56, 5.49, 6.56, 6.11, 7.06, 8.29],\n",
    "    }\n",
    ")\n",
    "\n",
    "\n",
    "# Implementando a função em questão\n",
    "def f_0(x):\n",
    "    return df.v_0[int(x)]\n",
    "\n",
    "\n",
    "def f_i(x):\n",
    "    return df.v_i[int(x)]\n",
    "\n",
    "\n",
    "# Implemente uma função para diferencição progressiva: dfp\n",
    "def diferencicao_progressiva(x):\n",
    "    partial_v0 = (f_0(x + 1) - f_0(x)) / 1\n",
    "    partial_v1 = (f_i(x + 1) - f_i(x)) / 1\n",
    "\n",
    "    return partial_v0 / partial_v1\n",
    "\n",
    "\n",
    "# Implemente uma função para diferenciação regressiva: dfr\n",
    "def diferencicao_regressiva(x):\n",
    "    partial_v0 = (f_0(x) - f_0(x - 1)) / 1\n",
    "    partial_v1 = (f_i(x) - f_i(x - 1)) / 1\n",
    "\n",
    "    return partial_v0 / partial_v1\n",
    "\n",
    "\n",
    "# Implemente uma função para diferenciação central: dfc\n",
    "def diferencicao_central(x):\n",
    "    partial_v0 = (f_0(x + 1) - f_0(x - 1)) / 1\n",
    "    partial_v1 = (f_i(x + 1) - f_i(x - 1)) / 1\n",
    "\n",
    "    return partial_v0 / partial_v1"
   ]
  },
  {
   "cell_type": "code",
   "execution_count": 19,
   "metadata": {},
   "outputs": [
    {
     "name": "stdout",
     "output_type": "stream",
     "text": [
      "Para v1=1\n",
      "a: 1.72000000\n",
      "b: 1.56000000\n",
      "c: 1.64000000\n",
      "********************\n",
      "Para v1=4,5\n",
      "a: 2.46000000\n",
      "b: 1.90000000\n",
      "c: 2.18000000\n"
     ]
    }
   ],
   "source": [
    "# Resultados\n",
    "print(\"Para v1=1\")\n",
    "print(\"a: {:.8f}\".format(diferencicao_progressiva(2)))\n",
    "print(\"b: {:.8f}\".format(diferencicao_regressiva(2)))\n",
    "print(\"c: {:.8f}\".format(diferencicao_central(2)))\n",
    "\n",
    "print(\"*\" * 20)\n",
    "\n",
    "print(\"Para v1=4,5\")\n",
    "print(\"a: {:.8f}\".format(diferencicao_progressiva(9)))\n",
    "print(\"b: {:.8f}\".format(diferencicao_regressiva(9)))\n",
    "print(\"c: {:.8f}\".format(diferencicao_central(9)))"
   ]
  },
  {
   "cell_type": "markdown",
   "metadata": {},
   "source": [
    "# Exercícios Computacionais"
   ]
  },
  {
   "cell_type": "markdown",
   "metadata": {},
   "source": [
    "O objetivo deste exercício é implementar o método de Newton para solução do problema de Bratu não linear resultante da discretização do Problema de Valor de Contorno descrito em seguida pelo método das diferenças finitas.\n",
    "Determinar $u \\in  (0, 1)$ dado que:\n",
    "\n",
    "$-u''− \\lambda e^u = g(x)$ para $x \\in \\Omega = (0, 1)$ $~~~~~~$(1)\n",
    "\n",
    "sendo:\n",
    "\n",
    "$g(x) = \\pi^2 sin(\\pi x) − \\lambda e^{sin(\\pi x)}$\n",
    "\n",
    "com condições de contorno $\\partial \\Omega$:\n",
    "\n",
    "$u(0) = 0$\n",
    "\n",
    "$u(1) = 0$\n",
    "\n",
    "O problema de Bratu representa um exemplo interessante no estudo de métodos numéricos para solução de problemas não-lineares. Sua aplicação ocorre em modelos de auto-ignição térmica de uma mistura reativa quimicamente fechada. A solução $u$ representa a diferença de temperatura entre pontos interiores do domínio $\\Omega$ e da fronteira $\\partial \\Omega$. Existe $\\lambda^{sur} > 0$ tal que a existência de soluções viáveis está restrita $a < \\lambda^{sur}$. Soluções computacionais ficam mais difíceis quando $\\lambda$ cresce para $\\lambda^{sur}$ .\n",
    "\n",
    "## Desenvolvimento\n",
    "\n",
    "Discretize o problema acima usando diferenças finitas e monte o sistema algébrico não linear resultante. Solucione o sistema linear resultante pelo método de Newton. Considere $tol = 10^7$ e $nmax = 100$ para todos os casos. Ao realizar os experimentos abaixo, monte um pequeno relatório, incluindo gráficos, tabelas e relatos para responder as questões.\n",
    "\n",
    "1. Considerando $\\lambda = 2$ e uma variação do número de subdivisões do domínio igual a $n = 10, 100, 300$ observe o comportamento da solução pelo métido de Newton. Faça um relato sobre a variação do número de iterações a medida que $n$ cresce, bem como a acuidade da solução encontrada.\n",
    "2. Considerando $\\lambda \\in [1, 6]$ e $n = 10, 100, 300$ o que podemos concluir sobre o comportamento do método de Newton para o problema de Bratu a medida que $\\lambda$ e n crescem? Qual o grau de confiabilidade nos resultados encontrados?"
   ]
  }
 ],
 "metadata": {
  "kernelspec": {
   "display_name": "base",
   "language": "python",
   "name": "python3"
  },
  "language_info": {
   "codemirror_mode": {
    "name": "ipython",
    "version": 3
   },
   "file_extension": ".py",
   "mimetype": "text/x-python",
   "name": "python",
   "nbconvert_exporter": "python",
   "pygments_lexer": "ipython3",
   "version": "3.11.3"
  },
  "orig_nbformat": 4
 },
 "nbformat": 4,
 "nbformat_minor": 2
}
