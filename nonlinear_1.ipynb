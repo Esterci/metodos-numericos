{
 "nbformat": 4,
 "nbformat_minor": 0,
 "metadata": {
  "colab": {
   "provenance": []
  },
  "kernelspec": {
   "name": "python3",
   "display_name": "Python 3"
  },
  "language_info": {
   "name": "python"
  }
 },
 "cells": [
  {
   "cell_type": "markdown",
   "source": [
    "# Resolução de Sistemas Não Lineares\n",
    "\n",
    "---\n",
    "\n",
    "\n",
    "## Iteração Ponto-Fixo\n",
    "\n",
    "Semelhante ao método de iteração de ponto fixo para encontrar raízes de uma única equação, o método de iteração de ponto fixo pode ser estendido para sistemas não lineares. O método de iteração de ponto fixo procede reorganizando o sistema não linear de modo que as equações tenham a forma:\n",
    "\n",
    "\\begin{align*}\n",
    "x_1 &= f_1(x_1,x_2,....,x_n) \\\\\n",
    "x_2 &= f_2(x_1,x_2,....,x_n) \\\\\n",
    "x_3 &= f_3(x_1,x_2,...,x_n)  \\\\\n",
    "    ...&                     \\\\\n",
    "x_n &=  f_n(x_1,x_2,...,x_n)\n",
    "\\end{align*}\n",
    "\n",
    "onde $∀ i \\le n: f_i$ é uma função não linear dos componentes $x_1,x_2,...,x_n$.\n",
    "\n",
    "### Exemplo:\n",
    "\n",
    "Encontre a solução do sistema não linear abaixo:\n",
    "\\begin{align*}\n",
    "x_1^2 + x_1x_2 &= 10\\\\\n",
    "x_2   + 3x_1x_2^2 &= 57\n",
    "\\end{align*}\n",
    "\n",
    "**Solução**\n",
    "\n",
    "A solução exata no campo dos números reais para este sistema pode ser obtida usando a biblioteca sympy do python. Veja o código abaixo:"
   ],
   "metadata": {
    "id": "TNccj7RhetgV"
   }
  },
  {
   "cell_type": "code",
   "source": [
    "import sympy as sp\n",
    "\n",
    "# indica que as impressões do pacote deve seguir formato latex.\n",
    "sp.init_printing(use_latex=True)\n",
    "x1, x2 = sp.symbols(\"x1 x2\")\n",
    "a = sp.nonlinsolve([x1**2 + x1 * x2 - 10, x2 + 3 * x1 * x2**2 - 57], [x1, x2])\n",
    "display(a)"
   ],
   "metadata": {
    "id": "0xT-nTSghXNh",
    "colab": {
     "base_uri": "https://localhost:8080/",
     "height": 109
    },
    "outputId": "d8eb6b09-460a-4d42-81ea-2ba860b76c1f"
   },
   "execution_count": null,
   "outputs": [
    {
     "output_type": "display_data",
     "data": {
      "text/plain": [
       "⎧        ⎛                                                                    \n",
       "⎪        ⎜                                                                    \n",
       "⎪        ⎜      3 ___                                  2/3        2/3 3 ______\n",
       "⎪        ⎜  517⋅╲╱ 2 ⋅√581717⋅(8378775 + 11191⋅√581717)      173⋅2   ⋅╲╱ 83787\n",
       "⎨(2, 3), ⎜- ────────────────────────────────────────────── - ─────────────────\n",
       "⎪        ⎜                    911833068                                     26\n",
       "⎪        ⎜                                                                    \n",
       "⎪        ⎜                                                                    \n",
       "⎩        ⎝                                                                    \n",
       "\n",
       "                                                                              \n",
       "                                                                              \n",
       "___________________        2/3         3 _________________________          3 \n",
       "75 + 11191⋅√581717    2   2   ⋅√581717⋅╲╱ 8378775 + 11191⋅√581717    414241⋅╲╱\n",
       "─────────────────── - ─ + ──────────────────────────────────────── + ─────────\n",
       "151                   3                    52302                              \n",
       "                                                                              \n",
       "                                                                              \n",
       "                                                                              \n",
       "\n",
       "                                        _______________________               \n",
       "                                       ╱ 8378775   361⋅√581717                \n",
       "___                          2/3    3 ╱  ─────── + ───────────                \n",
       " 2 ⋅(8378775 + 11191⋅√581717)       ╲╱    59582        1922       12          \n",
       "────────────────────────────────, - ─────────────────────────── - ── + ───────\n",
       "       911833068                                 3                31          \n",
       "                                                                              \n",
       "                                                                       2883⋅3 \n",
       "                                                                            ╲╱\n",
       "\n",
       "                         ⎞  ⎛                                                 \n",
       "                         ⎟  ⎜                                                 \n",
       "                         ⎟  ⎜         3 ___                          2/3    2/\n",
       "       8717              ⎟  ⎜  414241⋅╲╱ 2 ⋅(8378775 + 11191⋅√581717)      2  \n",
       "─────────────────────────⎟, ⎜- ───────────────────────────────────────── - ───\n",
       "  _______________________⎟  ⎜                  1823666136                     \n",
       " ╱ 8378775   361⋅√581717 ⎟  ⎜                                                 \n",
       "╱  ─────── + ─────────── ⎟  ⎜                                                 \n",
       "    59582        1922    ⎠  ⎝                                                 \n",
       "\n",
       "                                                                              \n",
       "                                                                              \n",
       "3         3 _________________________            2/3 3 _______________________\n",
       " ⋅√581717⋅╲╱ 8378775 + 11191⋅√581717    2   173⋅2   ⋅╲╱ 8378775 + 11191⋅√58171\n",
       "───────────────────────────────────── - ─ + ──────────────────────────────────\n",
       "              104604                    3                  52302              \n",
       "                                                                              \n",
       "                                                                              \n",
       "                                                                              \n",
       "\n",
       "                                                                              \n",
       "                                                                              \n",
       "__       3 ___                                  2/3                3 ___      \n",
       "7    517⋅╲╱ 2 ⋅√581717⋅(8378775 + 11191⋅√581717)      517⋅√1745151⋅╲╱ 2 ⋅ⅈ⋅(83\n",
       "── + ────────────────────────────────────────────── - ────────────────────────\n",
       "                       1823666136                                         1823\n",
       "                                                                              \n",
       "                                                                              \n",
       "                                                                              \n",
       "\n",
       "                                                                              \n",
       "                                                                              \n",
       "                      2/3             2/3   3 _________________________       \n",
       "78775 + 11191⋅√581717)      √1745151⋅2   ⋅ⅈ⋅╲╱ 8378775 + 11191⋅√581717    173⋅\n",
       "───────────────────────── - ─────────────────────────────────────────── + ────\n",
       "666136                                         104604                         \n",
       "                                                                              \n",
       "                                                                              \n",
       "                                                                              \n",
       "\n",
       "                                                                              \n",
       "                                                                              \n",
       " 2/3      3 _________________________          3 ___                          \n",
       "2   ⋅√3⋅ⅈ⋅╲╱ 8378775 + 11191⋅√581717    414241⋅╲╱ 2 ⋅√3⋅ⅈ⋅(8378775 + 11191⋅√58\n",
       "───────────────────────────────────── + ──────────────────────────────────────\n",
       "              52302                                       1823666136          \n",
       "                                                                              \n",
       "                                                                              \n",
       "                                                                              \n",
       "\n",
       "                                                                              \n",
       "                                                                 ⎛  1   √3⋅ⅈ⎞ \n",
       "     2/3                                                         ⎜- ─ - ────⎟⋅\n",
       "1717)       12                        8717                       ⎝  2    2  ⎠ \n",
       "────────, - ── + ───────────────────────────────────────────── - ─────────────\n",
       "            31                         _______________________                \n",
       "                      ⎛  1   √3⋅ⅈ⎞    ╱ 8378775   361⋅√581717                 \n",
       "                 2883⋅⎜- ─ - ────⎟⋅3 ╱  ─────── + ───────────                 \n",
       "                      ⎝  2    2  ⎠ ╲╱    59582        1922                    \n",
       "\n",
       "    _______________________⎞  ⎛                                               \n",
       "   ╱ 8378775   361⋅√581717 ⎟  ⎜                                               \n",
       "3 ╱  ─────── + ─────────── ⎟  ⎜         3 ___                          2/3    \n",
       "╲╱    59582        1922    ⎟  ⎜  414241⋅╲╱ 2 ⋅(8378775 + 11191⋅√581717)      2\n",
       "───────────────────────────⎟, ⎜- ───────────────────────────────────────── - ─\n",
       "      3                    ⎟  ⎜                  1823666136                   \n",
       "                           ⎟  ⎜                                               \n",
       "                           ⎟  ⎜                                               \n",
       "                           ⎠  ⎝                                               \n",
       "\n",
       "                                                                              \n",
       "                                                                              \n",
       "2/3         3 _________________________            2/3 3 _____________________\n",
       "   ⋅√581717⋅╲╱ 8378775 + 11191⋅√581717    2   173⋅2   ⋅╲╱ 8378775 + 11191⋅√581\n",
       "─────────────────────────────────────── - ─ + ────────────────────────────────\n",
       "                104604                    3                  52302            \n",
       "                                                                              \n",
       "                                                                              \n",
       "                                                                              \n",
       "\n",
       "                                                                              \n",
       "                                                                              \n",
       "____       3 ___                                  2/3          3 ___          \n",
       "717    517⋅╲╱ 2 ⋅√581717⋅(8378775 + 11191⋅√581717)      414241⋅╲╱ 2 ⋅√3⋅ⅈ⋅(837\n",
       "──── + ────────────────────────────────────────────── - ──────────────────────\n",
       "                         1823666136                                       1823\n",
       "                                                                              \n",
       "                                                                              \n",
       "                                                                              \n",
       "\n",
       "                                                                              \n",
       "                                                                              \n",
       "                     2/3        2/3      3 _________________________          \n",
       "8775 + 11191⋅√581717)      173⋅2   ⋅√3⋅ⅈ⋅╲╱ 8378775 + 11191⋅√581717    √174515\n",
       "──────────────────────── - ───────────────────────────────────────── + ───────\n",
       "666136                                       52302                            \n",
       "                                                                              \n",
       "                                                                              \n",
       "                                                                              \n",
       "\n",
       "                                                                              \n",
       "                                                                              \n",
       "   2/3   3 _________________________                3 ___                     \n",
       "1⋅2   ⋅ⅈ⋅╲╱ 8378775 + 11191⋅√581717    517⋅√1745151⋅╲╱ 2 ⋅ⅈ⋅(8378775 + 11191⋅√\n",
       "──────────────────────────────────── + ───────────────────────────────────────\n",
       "            104604                                         1823666136         \n",
       "                                                                              \n",
       "                                                                              \n",
       "                                                                              \n",
       "\n",
       "                                    _______________________                   \n",
       "                   ⎛  1   √3⋅ⅈ⎞    ╱ 8378775   361⋅√581717                    \n",
       "       2/3         ⎜- ─ + ────⎟⋅3 ╱  ─────── + ───────────                    \n",
       "581717)       12   ⎝  2    2  ⎠ ╲╱    59582        1922                       \n",
       "──────────, - ── - ──────────────────────────────────────── + ────────────────\n",
       "              31                      3                                       \n",
       "                                                                   ⎛  1   √3⋅ⅈ\n",
       "                                                              2883⋅⎜- ─ + ────\n",
       "                                                                   ⎝  2    2  \n",
       "\n",
       "                             ⎞⎫\n",
       "                             ⎟⎪\n",
       "                             ⎟⎪\n",
       "     8717                    ⎟⎪\n",
       "─────────────────────────────⎟⎬\n",
       "      _______________________⎟⎪\n",
       "⎞    ╱ 8378775   361⋅√581717 ⎟⎪\n",
       "⎟⋅3 ╱  ─────── + ─────────── ⎟⎪\n",
       "⎠ ╲╱    59582        1922    ⎠⎭"
      ],
      "text/latex": "$\\displaystyle \\left\\{\\left( 2, \\  3\\right), \\left( - \\frac{517 \\cdot \\sqrt[3]{2} \\sqrt{581717} \\left(8378775 + 11191 \\sqrt{581717}\\right)^{\\frac{2}{3}}}{911833068} - \\frac{173 \\cdot 2^{\\frac{2}{3}} \\sqrt[3]{8378775 + 11191 \\sqrt{581717}}}{26151} - \\frac{2}{3} + \\frac{2^{\\frac{2}{3}} \\sqrt{581717} \\sqrt[3]{8378775 + 11191 \\sqrt{581717}}}{52302} + \\frac{414241 \\cdot \\sqrt[3]{2} \\left(8378775 + 11191 \\sqrt{581717}\\right)^{\\frac{2}{3}}}{911833068}, \\  - \\frac{\\sqrt[3]{\\frac{8378775}{59582} + \\frac{361 \\sqrt{581717}}{1922}}}{3} - \\frac{12}{31} + \\frac{8717}{2883 \\sqrt[3]{\\frac{8378775}{59582} + \\frac{361 \\sqrt{581717}}{1922}}}\\right), \\left( - \\frac{414241 \\cdot \\sqrt[3]{2} \\left(8378775 + 11191 \\sqrt{581717}\\right)^{\\frac{2}{3}}}{1823666136} - \\frac{2^{\\frac{2}{3}} \\sqrt{581717} \\sqrt[3]{8378775 + 11191 \\sqrt{581717}}}{104604} - \\frac{2}{3} + \\frac{173 \\cdot 2^{\\frac{2}{3}} \\sqrt[3]{8378775 + 11191 \\sqrt{581717}}}{52302} + \\frac{517 \\cdot \\sqrt[3]{2} \\sqrt{581717} \\left(8378775 + 11191 \\sqrt{581717}\\right)^{\\frac{2}{3}}}{1823666136} - \\frac{517 \\sqrt{1745151} \\cdot \\sqrt[3]{2} i \\left(8378775 + 11191 \\sqrt{581717}\\right)^{\\frac{2}{3}}}{1823666136} - \\frac{\\sqrt{1745151} \\cdot 2^{\\frac{2}{3}} i \\sqrt[3]{8378775 + 11191 \\sqrt{581717}}}{104604} + \\frac{173 \\cdot 2^{\\frac{2}{3}} \\sqrt{3} i \\sqrt[3]{8378775 + 11191 \\sqrt{581717}}}{52302} + \\frac{414241 \\cdot \\sqrt[3]{2} \\sqrt{3} i \\left(8378775 + 11191 \\sqrt{581717}\\right)^{\\frac{2}{3}}}{1823666136}, \\  - \\frac{12}{31} + \\frac{8717}{2883 \\left(- \\frac{1}{2} - \\frac{\\sqrt{3} i}{2}\\right) \\sqrt[3]{\\frac{8378775}{59582} + \\frac{361 \\sqrt{581717}}{1922}}} - \\frac{\\left(- \\frac{1}{2} - \\frac{\\sqrt{3} i}{2}\\right) \\sqrt[3]{\\frac{8378775}{59582} + \\frac{361 \\sqrt{581717}}{1922}}}{3}\\right), \\left( - \\frac{414241 \\cdot \\sqrt[3]{2} \\left(8378775 + 11191 \\sqrt{581717}\\right)^{\\frac{2}{3}}}{1823666136} - \\frac{2^{\\frac{2}{3}} \\sqrt{581717} \\sqrt[3]{8378775 + 11191 \\sqrt{581717}}}{104604} - \\frac{2}{3} + \\frac{173 \\cdot 2^{\\frac{2}{3}} \\sqrt[3]{8378775 + 11191 \\sqrt{581717}}}{52302} + \\frac{517 \\cdot \\sqrt[3]{2} \\sqrt{581717} \\left(8378775 + 11191 \\sqrt{581717}\\right)^{\\frac{2}{3}}}{1823666136} - \\frac{414241 \\cdot \\sqrt[3]{2} \\sqrt{3} i \\left(8378775 + 11191 \\sqrt{581717}\\right)^{\\frac{2}{3}}}{1823666136} - \\frac{173 \\cdot 2^{\\frac{2}{3}} \\sqrt{3} i \\sqrt[3]{8378775 + 11191 \\sqrt{581717}}}{52302} + \\frac{\\sqrt{1745151} \\cdot 2^{\\frac{2}{3}} i \\sqrt[3]{8378775 + 11191 \\sqrt{581717}}}{104604} + \\frac{517 \\sqrt{1745151} \\cdot \\sqrt[3]{2} i \\left(8378775 + 11191 \\sqrt{581717}\\right)^{\\frac{2}{3}}}{1823666136}, \\  - \\frac{12}{31} - \\frac{\\left(- \\frac{1}{2} + \\frac{\\sqrt{3} i}{2}\\right) \\sqrt[3]{\\frac{8378775}{59582} + \\frac{361 \\sqrt{581717}}{1922}}}{3} + \\frac{8717}{2883 \\left(- \\frac{1}{2} + \\frac{\\sqrt{3} i}{2}\\right) \\sqrt[3]{\\frac{8378775}{59582} + \\frac{361 \\sqrt{581717}}{1922}}}\\right)\\right\\}$"
     },
     "metadata": {}
    }
   ]
  },
  {
   "cell_type": "markdown",
   "source": [
    "O método numérico de iteração de ponto fixo requer reorganizar as equações primeiro para a forma:\n",
    "\n",
    "\\begin{align*}\n",
    "x_1 &= f_1(x_1,x_2) \\\\\n",
    "x_2 &= f_2(x_1,x_2) \\\\\n",
    "\\end{align*}\n",
    "\n",
    "Uma reorganização possível para esse sistema é dada abaixo:\n",
    "\n",
    "\\begin{align*}\n",
    "x_1 &= (10 -x_1^2)/x_2 \\\\\n",
    "x_2 &= 57 - 3x_1x_2^2  \\\\\n",
    "\\end{align*}\n",
    "\n",
    "**Análise de Convergência**\n",
    "\n",
    "Como sabemos, uma solução real para o sistema acima é $\\mathbf{x} = (2,3)$. Para a análise de convergência devemos calcular a matriz Jacobiana que é dada por\n",
    "\n",
    "$$\\mathbf{G} =\n",
    "\\begin{pmatrix}\n",
    "\\frac{\\partial f_1}{\\partial x_1} & \\frac{\\partial f_1}{\\partial x_2} \\\\\n",
    "\\frac{\\partial f_2}{\\partial x_1} & \\frac{\\partial f_2}{\\partial x_2}\n",
    "\\end{pmatrix}\n",
    "$$\n",
    "\n",
    "onde\n",
    "$\\frac{\\partial f_1}{\\partial x_1} = \\frac{-2x_1}{x_2} $,\n",
    "$\\frac{\\partial f_1}{\\partial x_2} = \\frac{x_1^2-10}{x_2^2} $,\n",
    "$\\frac{\\partial f_2}{\\partial x_1} = -3x_2^2 $ e\n",
    "$\n",
    "\\frac{\\partial f_2}{\\partial x_1} = -6x_1x_2\n",
    "$\n",
    "\n",
    "Calculando os autovalores e o raio espectral com seguinte código python abaixo:"
   ],
   "metadata": {
    "id": "KWmA5FsVioqW"
   }
  },
  {
   "cell_type": "code",
   "source": [
    "import numpy as np\n",
    "\n",
    "\n",
    "# Vamos definir as duas funções de ponto-fixo:\n",
    "def f1(x1, x2):\n",
    "    return (10.0 - x1 * x1) / x2\n",
    "\n",
    "\n",
    "def f2(x1, x2):\n",
    "    return 57.0 - 3 * x1 * x2 * x2\n",
    "\n",
    "\n",
    "## E suas derivadas parciais em relação a x1 e x2\n",
    "def df1dx1(x1, x2):\n",
    "    return -2.0 * x1 / x2\n",
    "\n",
    "\n",
    "def df1dx2(x1, x2):\n",
    "    return (x1 * x1 - 10) / (x2 * x2)\n",
    "\n",
    "\n",
    "def df2dx1(x1, x2):\n",
    "    return -3 * x1 * x2\n",
    "\n",
    "\n",
    "def df2dx2(x1, x2):\n",
    "    return -6 * x1 * x2\n",
    "\n",
    "\n",
    "# Alocamos uma matriz 2x2 e atribuidos em dcada posição os\n",
    "# valores da derivadas\n",
    "G = np.zeros([2, 2])\n",
    "G[0][0] = df1dx1(2, 3)\n",
    "G[0][1] = df1dx2(2, 3)\n",
    "G[1][0] = df2dx1(2, 3)\n",
    "G[1][1] = df2dx2(2, 3)\n",
    "\n",
    "print(G)\n",
    "\n",
    "# a função eig da biblioteca linealg retorna os autovalores (v) e autovetores (w) da\n",
    "# de uma matriz.\n",
    "v, w = np.linalg.eig(G)\n",
    "\n",
    "print(v)\n",
    "print(w)\n",
    "\n",
    "\n",
    "# o raio espectral é o maior autovalor\n",
    "print(\"Raio espectral: \", max(abs(v)))"
   ],
   "metadata": {
    "id": "FuQtgB2YnUVp",
    "colab": {
     "base_uri": "https://localhost:8080/"
    },
    "outputId": "2c1b9ef9-3fab-487b-d3e7-e39ab83dc459"
   },
   "execution_count": null,
   "outputs": [
    {
     "output_type": "stream",
     "name": "stdout",
     "text": [
      "[[ -1.33333333  -0.66666667]\n",
      " [-18.         -36.        ]]\n",
      "[ -0.99056856 -36.34276478]\n",
      "[[ 0.88933791  0.01903904]\n",
      " [-0.45725057  0.99981874]]\n",
      "Raio espectral:  36.342764778083804\n"
     ]
    }
   ]
  },
  {
   "cell_type": "markdown",
   "source": [
    "Sabemos que a iteração de ponto-fixo convirjará se $|\\rho(\\mathbf{G})| \\lt 1$. Como podemos observar acima, o $|\\rho(\\mathbf{G})| \\approx  36.3 > 1$, logo a sequencia de aproximações não irá convergir.\n",
    "\n",
    "Vamos verificar na prática executando o seguinte código python:"
   ],
   "metadata": {
    "id": "9s7s6uM5rlWP"
   }
  },
  {
   "cell_type": "code",
   "source": [
    "# Implementação do metodo de ponto-fixo usando o arranjo das funções original.\n",
    "def PontoFixo(x0, tol, maxiter):\n",
    "    print(\"%-5s  %-13s %-14s %-8s\" % (\"Iter\", \"x1\", \"x2\", \"error\"))\n",
    "\n",
    "    # Enquanto i < maxiters\n",
    "    for i in range(maxiter):\n",
    "        x0new = f1(x0[0], x0[1])\n",
    "        x1new = f2(x0new, x0[1])\n",
    "\n",
    "        x = np.array([x0new, x1new])\n",
    "        error = np.linalg.norm(x - x0, 2) / np.linalg.norm(x, 2)\n",
    "        print(\"%-5d  %6.6e  %6.6e  %6.6e\" % (i, x[0], x[1], error))\n",
    "        if error < tol:\n",
    "            return x\n",
    "\n",
    "        x0 = x\n",
    "    return x\n",
    "\n",
    "\n",
    "x0 = np.array([2.01, 3.01])\n",
    "x = PontoFixo(x0, 0.0001, 5)"
   ],
   "metadata": {
    "id": "Hvh955AAsANn",
    "colab": {
     "base_uri": "https://localhost:8080/"
    },
    "outputId": "59deed33-5247-4869-d3a4-3f648cdf59ff"
   },
   "execution_count": null,
   "outputs": [
    {
     "output_type": "stream",
     "name": "stdout",
     "text": [
      "Iter   x1            x2             error   \n",
      "0      1.980033e+00  2.367597e+00  2.083642e-01\n",
      "1      2.567780e+00  2.370268e+01  8.952164e-01\n",
      "2      1.437182e-01  -4.270867e+03  1.005550e+00\n",
      "3      -2.336608e-03  -7.864334e+06  9.994569e-01\n",
      "4      -1.271563e-06  4.335419e+11  1.000018e+00\n"
     ]
    }
   ]
  },
  {
   "cell_type": "markdown",
   "source": [
    "Um rearranjo diferente para as equações tem a forma:\n",
    "\n",
    "\\begin{align*}\n",
    "x_1 &= \\sqrt{(10 -x_1x_2} \\\\\n",
    "x_2 &= \\sqrt{ (57 - x_2)/3x_1} \\\\\n",
    "\\end{align*}\n",
    "\n",
    "Usamos a mesma aproximação inicial, temos:\n"
   ],
   "metadata": {
    "id": "eA93QR-kyJmo"
   }
  },
  {
   "cell_type": "code",
   "source": [
    "import numpy as np\n",
    "\n",
    "\n",
    "def f1new(x1, x2):\n",
    "    return np.sqrt(10.0 - x1 * x2)\n",
    "\n",
    "\n",
    "def f2new(x1, x2):\n",
    "    return np.sqrt((57 - x2) / (3 * x1))\n",
    "\n",
    "\n",
    "def PontoFixoFixed(x0, tol, maxiter):\n",
    "    print(\"%-5s  %-10.8s %-10.8s %-8.8s\" % (\"Iter\", \"x1\", \"x2\", \"error\"))\n",
    "    for i in range(maxiter):\n",
    "        x1new = f1new(x0[0], x0[1])\n",
    "        x2new = f2new(x1new, x0[1])\n",
    "\n",
    "        x = np.array([x1new, x2new])\n",
    "\n",
    "        error = np.linalg.norm(x - x0, 2) / np.linalg.norm(x, 2)\n",
    "\n",
    "        print(\"%-5d  %-8.8f %-8.8f %-8.8f\" % (i, x[0], x[1], error))\n",
    "        if error < tol:\n",
    "            break\n",
    "        x0 = x\n",
    "    return x\n",
    "\n",
    "\n",
    "x0 = np.array([1.5, 3.5])\n",
    "x = PontoFixoFixed(x0, 1.0e-8, 40)"
   ],
   "metadata": {
    "id": "keZSggG2yzVx",
    "colab": {
     "base_uri": "https://localhost:8080/"
    },
    "outputId": "ac7d0b87-697e-42ab-d816-99b89994404b"
   },
   "execution_count": null,
   "outputs": [
    {
     "output_type": "stream",
     "name": "stdout",
     "text": [
      "Iter   x1         x2         error   \n",
      "0      2.17944947 2.86050599 0.25945929\n",
      "1      1.94053388 3.04955067 0.08428602\n",
      "2      2.02045629 2.98340475 0.02879238\n",
      "3      1.99302813 3.00570436 0.00980173\n",
      "4      2.00238524 2.99805430 0.00335241\n",
      "5      1.99918491 3.00066556 0.00114555\n",
      "6      2.00027865 2.99977255 0.00039162\n",
      "7      1.99990475 3.00007776 0.00013386\n",
      "8      2.00003256 2.99997342 0.00004576\n",
      "9      1.99998887 3.00000909 0.00001564\n",
      "10     2.00000380 2.99999689 0.00000535\n",
      "11     1.99999870 3.00000106 0.00000183\n",
      "12     2.00000044 2.99999964 0.00000062\n",
      "13     1.99999985 3.00000012 0.00000021\n",
      "14     2.00000005 2.99999996 0.00000007\n",
      "15     1.99999998 3.00000001 0.00000002\n",
      "16     2.00000001 3.00000000 0.00000001\n"
     ]
    }
   ]
  },
  {
   "cell_type": "markdown",
   "source": [
    "**Exercício 1**: Faça a análise de convergência para a reorganização acima.\n",
    "\n",
    "**Exercício 2**: Resolva o sistema abaixo usando o método de ponto-fixo com tolerância de $10^{-6}$.\n",
    "\n",
    "\\begin{align*}\n",
    "x^3 + y & = 1  \\\\\n",
    "y^3 - x & = -1  \n",
    "\\end{align*}\n"
   ],
   "metadata": {
    "id": "oACJLH0n1wOF"
   }
  },
  {
   "cell_type": "markdown",
   "source": [
    "## Método de Newton\n",
    "\n",
    "O método de Newton-Raphson é o método de escolha para resolver sistemas de equações não lineares. Muitos pacotes de software de engenharia (especialmente software de análise de elementos finitos) que resolvem sistemas de equações não lineares usam o método de Newton-Raphson. A derivação do método para sistemas não lineares é muito semelhante à versão unidimensional para determinação de raízes. Suponha um sistema não linear de equações da forma:\n",
    "\n",
    "\n",
    "\\begin{align*}\n",
    "f_1(x_1,x_2,....,x_n) &= 0\\\\\n",
    "f_2(x_1,x_2,....,x_n) &= 0\\\\\n",
    "f_3(x_1,x_2,...,x_n)  &= 0\\\\\n",
    "  ...&                     \\\\\n",
    "f_n(x_1,x_2,...,x_n) &= 0\n",
    "\\end{align*}\n",
    "\n",
    "\n",
    "Se os componentes de um iteração $x^{(k)} \\in \\mathbb{R}^n$ são conhecidos como $x_1^{(k)}, x_2^{(k)},..., x_n^{(k)}$, então aplicando a expansão da serie de taylor para a primeira equação oo redor desses componentes, temos:\n",
    "\n",
    "\n",
    "\\begin{align*}\n",
    "f_1(x_1^{(k+1)}, x_2^{(k+1)},..., x_n^{(k+1)}) & \\approx f_1(x_1^{(k)}, x_2^{(k)},..., x_n^{(k)}) + \\\\\n",
    " & \\frac{\\partial f_1}{\\partial x_1}(x_1^{(k+1)}-x_1^{(k)}) + \\\\\n",
    " & \\frac{\\partial f_1}{\\partial x_2}(x_2^{(k+1)}-x_2^{(k)}) + \\\\\n",
    " & ... \\\\\n",
    " & \\frac{\\partial f_1}{\\partial x_n}(x_n^{(k+1)}-x_n^{(k)})\n",
    "\\end{align*}\n",
    "\n",
    "\n",
    "Aplicando a mesma expansão para as equações $f_2,..., f_n$ ,chegamos ao seguinte sistema de equações lineares:\n",
    "\n",
    "$$\n",
    "\\mathbf{F}(\\mathbf{x})^{(k+1)} = \\mathbf{F}(\\mathbf{x})^{(k)} + \\mathbf{J}(\\mathbf{x}^{(k+1)})(\\mathbf{x}^{(k+1)} - \\mathbf{x}^{(k)}\n",
    "$$\n",
    "\n",
    "Definindo o lado esquerdo para zero (que é o valor desejado para as funções $f_1, f_2, \\cdots, f_n$ então, o sistema pode ser escrito como:\n",
    "\n",
    "$$\n",
    "\\mathbf{0} = \\mathbf{F}(\\mathbf{x})^{(i)} + \\mathbf{J}(\\mathbf{x}^{(k+1)})(\\mathbf{x}^{(k+1)} - \\mathbf{x}^{(k)})  \\\\\n",
    "↓ \\\\\n",
    "\\mathbf{J}(\\mathbf{x}^{(k+1)})\\mathbf{\\Delta x}= - \\mathbf{F}(\\mathbf{x}^{(k)})\n",
    "$$\n",
    "\n",
    "onde $\\mathbf{J}$ é a matriz jacobiana dada por:\n",
    "\n",
    "$$\n",
    "\\mathbf{J}(\\mathbf{x})^{(k)}_{ij} = \\frac{\\partial f_i(\\mathbf{x}^{(k)})}{\\partial x_j}\n",
    "$$\n",
    "\n",
    "A nova aproximação é dada por:  $ \\mathbf{x}^{(k+1)} = \\mathbf{x}^{(k)} + \\mathbf{\\Delta x} $\n",
    "\n",
    "### Exemplo\n",
    "\n",
    "Encontre a solução do sistema não linear abaixo:\n",
    "\\begin{align}\n",
    "x_1^2 + x_1x_2 &= 10\\\\\n",
    "x_2   + 3x_1x_2^2 &= 57\n",
    "\\end{align}\n",
    "\n",
    "**Solução**\n",
    "\n",
    "Além de exigir uma estimativa inicial, o método de Newton requer a avaliação das derivadas das funções $f_1=x_1^2+x_1x_2-10$ e $f_2=x_2+3x_1x_2^2-57$. Se $\\mathbf{J}_{ij}=\\frac{\\partial f_1}{\\partial x_j}$, então tem a seguinte forma:\n",
    "\n",
    "$$\n",
    " \\mathbf{J}=\\left(\\begin{matrix}\\frac{\\partial f_1}{\\partial x_1}& \\frac{\\partial f_1}{\\partial x_2}\\\\\\frac{\\partial f_2}{\\partial x_1} & \\frac{\\partial f_2}{\\partial x_2}\\end{matrix}\\right)=\\left(\\begin{matrix}2x_1+x_2& x_1\\\\3x_2^2 & 1+6x_1x_2\\end{matrix}\\right)\n",
    "$$\n",
    "\n",
    "Assumindo uma estimativa inicial de $\\mathbf{x}^{(0)}=(1.5, 3.5)$, então o vetor $\\mathbf{F}$ e a matriz $\\mathbf{J}$ têm componentes:\n",
    "\n",
    "$$\n",
    "\\mathbf{F}(\\mathbf{x}^{(0)}) =\\left(\\begin{array}{c}x_1^2+x_1x_2-10\\\\x_2+3x_1x_2^2-57\\end{array}\\right)=\\left(\\begin{array}{c}-2.5\\\\1.625\\end{array}\\right) \\qquad \\mathbf{J}=\\left(\\begin{matrix}6.5 & 1.5 \\\\ 36.75 & 32.5\\end{matrix}\\right)\n",
    "$$\n",
    "\n",
    "Os componentes do vetor $\\Delta x$ podem ser obtidos resolvendo o sistema abaixo:\n",
    "\n",
    "$$\n",
    "\\left(\\begin{matrix}6.5 & 1.5 \\\\ 36.75 & 32.5\\end{matrix}\\right) \\Delta \\mathbf{x} = -\\left(\\begin{array}{c}-2.5\\\\1.625\\end{array}\\right)\n",
    "$$\n",
    "\n",
    "Usando algum método de solução de sistema:\n"
   ],
   "metadata": {
    "id": "RY0JyXh0A_vA"
   }
  },
  {
   "cell_type": "code",
   "source": [
    "import numpy as np\n",
    "\n",
    "J = np.empty([2, 2])\n",
    "F = np.empty([2, 1])\n",
    "\n",
    "J[0][0] = 6.5\n",
    "J[0][1] = 1.5\n",
    "J[1][0] = 36.75\n",
    "J[1][1] = 32.5\n",
    "F[0] = -2.5\n",
    "F[1] = 1.625\n",
    "deltaX = np.linalg.solve(J, -F)\n",
    "print(\"\\Delta x = %0.5f %0.5f\" % (x[0], x[1]))"
   ],
   "metadata": {
    "colab": {
     "base_uri": "https://localhost:8080/"
    },
    "id": "Dw-s3kHyDmV-",
    "outputId": "3813cfcb-0813-43e4-9a5c-bd5d84d8b469"
   },
   "execution_count": null,
   "outputs": [
    {
     "output_type": "stream",
     "name": "stdout",
     "text": [
      "\\Delta x = 2.00000 3.00000\n"
     ]
    }
   ]
  },
  {
   "cell_type": "code",
   "source": [],
   "metadata": {
    "id": "6gz6rpuXPoY0"
   },
   "execution_count": null,
   "outputs": []
  },
  {
   "cell_type": "markdown",
   "source": [
    "Assim, $\\mathbf{x}^{(1)} =  \\mathbf{x}^{(0)} + \\Delta \\mathbf{x}$:\n",
    "\n",
    "$$ x^{(1)}=x^{(0)}+\\Delta x=\\left(\\begin{array}{c}2.036029\\\\2.843875\\end{array}\\right)\n",
    "$$\n",
    "\n",
    "O erro relativo é dado por:\n",
    "\n",
    "$$\n",
    "  \\epsilon_r= \\frac{\\| \\Delta \\mathbf{x} \\|_2}{\\| \\Delta \\mathbf{x}^{(1)}\\|_2} = \\frac{\\sqrt{(0.53603)^2+(-0.65612)^2}}{\\sqrt{(2.036029)^2+(2.843875)^2}}=0.2422\n",
    "$$\n",
    "\n",
    "\n",
    "Abaixo, o programa completo:"
   ],
   "metadata": {
    "id": "3N94tWo2Fri6"
   }
  },
  {
   "cell_type": "code",
   "source": [
    "# Função que calcula a matriz Jacobiana para o exercicio proposto\n",
    "def CalculaJacobiano(x):\n",
    "    J = np.empty([2, 2])\n",
    "    J[0][0] = 2 * x[0] + x[1]\n",
    "    J[0][1] = x[0]\n",
    "    J[1][0] = 3 * x[1] ** 2\n",
    "    J[1][1] = 1 + 6 * x[0] * x[1]\n",
    "    return J\n",
    "\n",
    "\n",
    "# Funcão que calcula o vetor Resíduo\n",
    "def CalculaResiduo(x):\n",
    "    F = np.empty([2, 1])\n",
    "    F[0] = x[0] ** 2 + x[0] * x[1] - 10\n",
    "    F[1] = x[1] + 3 * x[0] * x[1] ** 2 - 57\n",
    "    return F\n",
    "\n",
    "\n",
    "# Implementa as iterações do método de Newton\n",
    "def NewtonSolve(x0, tol, maxiters):\n",
    "    print(\"%-5s  %-10.8s %-10.8s %-8.8s\" % (\"Iter\", \"x1\", \"x2\", \"error\"))\n",
    "    for i in range(maxiters):\n",
    "        J = CalculaJacobiano(x0)\n",
    "        F = CalculaResiduo(x0)\n",
    "        dx = np.linalg.solve(J, -F)\n",
    "        x = x0 + dx\n",
    "        # error = np.linalg.norm(x-x0)/np.linalg.norm(x)\n",
    "        error = np.linalg.norm(dx) / np.linalg.norm(x)\n",
    "        print(\"%-5d  %-8.8f %-8.8f %-8.8E\" % (i, x[0], x[1], error))\n",
    "        if error < tol:\n",
    "            break\n",
    "        x0 = x\n",
    "    return x\n",
    "\n",
    "\n",
    "# Cria o vetor com a aproximação inicial\n",
    "#\n",
    "x0 = np.empty([2, 1])\n",
    "x0[0] = 1.5\n",
    "x0[1] = 3.5\n",
    "\n",
    "# Chama o método de Newton para resolver o sistema\n",
    "x = NewtonSolve(x0, 1.0e-8, 40)"
   ],
   "metadata": {
    "id": "1WVQRQkiHk_L",
    "colab": {
     "base_uri": "https://localhost:8080/"
    },
    "outputId": "8aa5cae9-1cbb-4af5-bdf6-c67e6932cbfa"
   },
   "execution_count": null,
   "outputs": [
    {
     "output_type": "stream",
     "name": "stdout",
     "text": [
      "Iter   x1         x2         error   \n",
      "0      2.03602882 2.84387510 2.42238211E-01\n",
      "1      1.99870061 3.00228856 4.51244689E-02\n",
      "2      1.99999998 2.99999941 7.30046491E-04\n",
      "3      2.00000000 3.00000000 1.62758110E-07\n",
      "4      2.00000000 3.00000000 2.15280612E-14\n"
     ]
    }
   ]
  },
  {
   "cell_type": "markdown",
   "source": [
    "## Aproximando J por diferenças finitas\n",
    "\n"
   ],
   "metadata": {
    "id": "-UhCYqivkwZB"
   }
  },
  {
   "cell_type": "code",
   "source": [
    "# Funcão que calcula o vetor Resíduo\n",
    "def CalculaResiduo(x):\n",
    "    F = np.empty([2, 1])\n",
    "    F[0] = x[0] ** 2 + x[0] * x[1] - 10\n",
    "    F[1] = x[1] + 3 * x[0] * x[1] ** 2 - 57\n",
    "    return F\n",
    "\n",
    "\n",
    "def CalculaJacobiano(x):\n",
    "    eps = 1.0e-8\n",
    "    J = np.matrix([2, 2])\n",
    "    u = np.zeros([2, 1])\n",
    "    for i in range(2):\n",
    "        for j in range(2):\n",
    "            u[j] = eps\n",
    "            J[i][j] = (CalculaResiduo(x + u) - CalculaResiduo(x)) / eps\n",
    "            u[j] = 0.0\n",
    "    return J\n",
    "\n",
    "\n",
    "# Implementa as iterações do método de Newton\n",
    "def NewtonSolve(x0, tol, maxiters):\n",
    "    print(\"%-5s  %-10.8s %-10.8s %-8.8s\" % (\"Iter\", \"x1\", \"x2\", \"error\"))\n",
    "    for i in range(maxiters):\n",
    "        J = CalculaJacobiano(x0)\n",
    "        F = CalculaResiduo(x0)\n",
    "        dx = np.linalg.solve(J, -F)\n",
    "        x = x0 + dx\n",
    "        # error = np.linalg.norm(x-x0)/np.linalg.norm(x)\n",
    "        error = np.linalg.norm(dx) / np.linalg.norm(x)\n",
    "        print(\"%-5d  %-8.8f %-8.8f %-8.8E\" % (i, x[0], x[1], error))\n",
    "        if error < tol:\n",
    "            break\n",
    "        x0 = x\n",
    "    return x\n",
    "\n",
    "\n",
    "# Cria o vetor com a aproximação inicial\n",
    "#\n",
    "x0 = np.empty([2, 1])\n",
    "x0[0] = 1.5\n",
    "x0[1] = 3.5\n",
    "\n",
    "# Chama o método de Newton para resolver o sistema\n",
    "x = NewtonSolve(x0, 1.0e-6, 40)"
   ],
   "metadata": {
    "colab": {
     "base_uri": "https://localhost:8080/",
     "height": 236
    },
    "id": "H4DaA8UHk236",
    "outputId": "be055417-9a8a-40b4-e878-d0c5538690fd"
   },
   "execution_count": null,
   "outputs": [
    {
     "output_type": "error",
     "ename": "NameError",
     "evalue": "ignored",
     "traceback": [
      "\u001b[0;31m---------------------------------------------------------------------------\u001b[0m",
      "\u001b[0;31mNameError\u001b[0m                                 Traceback (most recent call last)",
      "\u001b[0;32m<ipython-input-1-f540596caec4>\u001b[0m in \u001b[0;36m<cell line: 39>\u001b[0;34m()\u001b[0m\n\u001b[1;32m     37\u001b[0m \u001b[0;31m# Cria o vetor com a aproximação inicial\u001b[0m\u001b[0;34m\u001b[0m\u001b[0;34m\u001b[0m\u001b[0m\n\u001b[1;32m     38\u001b[0m \u001b[0;31m#\u001b[0m\u001b[0;34m\u001b[0m\u001b[0;34m\u001b[0m\u001b[0m\n\u001b[0;32m---> 39\u001b[0;31m \u001b[0mx0\u001b[0m \u001b[0;34m=\u001b[0m \u001b[0mnp\u001b[0m\u001b[0;34m.\u001b[0m\u001b[0mempty\u001b[0m\u001b[0;34m(\u001b[0m\u001b[0;34m[\u001b[0m\u001b[0;36m2\u001b[0m\u001b[0;34m,\u001b[0m\u001b[0;36m1\u001b[0m\u001b[0;34m]\u001b[0m\u001b[0;34m)\u001b[0m\u001b[0;34m;\u001b[0m\u001b[0;34m\u001b[0m\u001b[0;34m\u001b[0m\u001b[0m\n\u001b[0m\u001b[1;32m     40\u001b[0m \u001b[0mx0\u001b[0m\u001b[0;34m[\u001b[0m\u001b[0;36m0\u001b[0m\u001b[0;34m]\u001b[0m \u001b[0;34m=\u001b[0m \u001b[0;36m1.5\u001b[0m\u001b[0;34m\u001b[0m\u001b[0;34m\u001b[0m\u001b[0m\n\u001b[1;32m     41\u001b[0m \u001b[0mx0\u001b[0m\u001b[0;34m[\u001b[0m\u001b[0;36m1\u001b[0m\u001b[0;34m]\u001b[0m \u001b[0;34m=\u001b[0m \u001b[0;36m3.5\u001b[0m\u001b[0;34m\u001b[0m\u001b[0;34m\u001b[0m\u001b[0m\n",
      "\u001b[0;31mNameError\u001b[0m: name 'np' is not defined"
     ]
    }
   ]
  }
 ]
}