{
 "cells": [
  {
   "cell_type": "markdown",
   "metadata": {},
   "source": [
    "# Declarando métodos"
   ]
  },
  {
   "cell_type": "code",
   "execution_count": 50,
   "metadata": {},
   "outputs": [],
   "source": [
    "import numpy as np\n",
    "\n",
    "\n",
    "def pivot(A, N):\n",
    "    P = np.eye(N)\n",
    "    zero_matrix = np.zeros((N, N))\n",
    "    count = 0\n",
    "\n",
    "    for i in range(N):\n",
    "        if A[i][i] == 0:\n",
    "            count += 1\n",
    "\n",
    "    if count == 0:\n",
    "        return zero_matrix\n",
    "    else:\n",
    "        for j in range(N):\n",
    "            max_value = abs(A[j, j])\n",
    "            max_row = j\n",
    "\n",
    "            for i in range(j + 1, N):\n",
    "                if abs(A[i, j]) > max_value:\n",
    "                    max_value = abs(A[i, j])\n",
    "                    max_row = i\n",
    "\n",
    "            if max_row != j:\n",
    "                P[[j, max_row]] = P[[max_row, j]]\n",
    "\n",
    "        return P\n",
    "\n",
    "\n",
    "def LU_decomposition(A, N, b):\n",
    "    U = np.zeros((N, N))\n",
    "    L = np.eye(N)\n",
    "    y = np.zeros(N)\n",
    "    x = np.zeros(N)\n",
    "    solution = np.full(N, 11)\n",
    "\n",
    "    for i in range(N):\n",
    "        for j in range(i, N):\n",
    "            summation = 0\n",
    "            for k in range(i):\n",
    "                summation += L[i][k] * U[k][j]\n",
    "            U[i][j] = A[i][j] - summation\n",
    "\n",
    "        for j in range(i + 1, N):\n",
    "            summation = 0\n",
    "            for k in range(i):\n",
    "                summation += L[j][k] * U[k][i]\n",
    "            L[j][i] = (A[j][i] - summation) / U[i][i]\n",
    "\n",
    "    for i in range(N):\n",
    "        y[i] = b[i]\n",
    "        for j in range(i):\n",
    "            y[i] -= L[i][j] * y[j]\n",
    "        y[i] /= L[i][i]\n",
    "\n",
    "    for i in range(N - 1, -1, -1):\n",
    "        x[i] = y[i]\n",
    "        for j in range(i + 1, N):\n",
    "            x[i] -= U[i][j] * x[j]\n",
    "        x[i] /= U[i][i]\n",
    "\n",
    "    return x, np.linalg.norm(x - solution, np.inf) / np.linalg.norm(solution, np.inf)\n",
    "\n",
    "\n",
    "def Jacobi(A, N, b, x_0):\n",
    "    x_prev = x_0\n",
    "    x = np.zeros(N)\n",
    "    precision = 1e-8\n",
    "    max_iterations = 1000\n",
    "    solution = np.full(N, 11)\n",
    "    i = 0\n",
    "\n",
    "    for i in range(max_iterations):\n",
    "        for k in range(N):\n",
    "            sum1 = 0\n",
    "            sum2 = 0\n",
    "            for j in range(k):\n",
    "                sum1 += A[k][j] * x_prev[j]\n",
    "            for j in range(k + 1, N):\n",
    "                sum2 += A[k][j] * x_prev[j]\n",
    "            x[k] = (b[k] - sum1 - sum2) / A[k][k]\n",
    "\n",
    "        if np.linalg.norm(x - x_prev, np.inf) < precision:\n",
    "            print(\"Resultado obtido pelo metodo de Jacobi: \")\n",
    "            print(x)\n",
    "            print(\n",
    "                \"A diferenca relativa em forma infinito entre a solucao encontrada e a solucao esperada e: \"\n",
    "            )\n",
    "            print(\n",
    "                np.linalg.norm(x - solution, np.inf) / np.linalg.norm(solution, np.inf)\n",
    "            )\n",
    "            print(\"\\n\")\n",
    "            dif = np.linalg.norm(x - solution, np.inf) / np.linalg.norm(\n",
    "                solution, np.inf\n",
    "            )\n",
    "            return x, dif, 0\n",
    "        x_prev = x\n",
    "\n",
    "        dif = np.linalg.norm(x - solution, np.inf) / np.linalg.norm(solution, np.inf)\n",
    "        return x, dif, 1"
   ]
  },
  {
   "cell_type": "markdown",
   "metadata": {},
   "source": [
    "# N = 4"
   ]
  },
  {
   "cell_type": "code",
   "execution_count": 51,
   "metadata": {},
   "outputs": [
    {
     "name": "stdout",
     "output_type": "stream",
     "text": [
      "Condicionamento:  15513.742098627174\n"
     ]
    }
   ],
   "source": [
    "N = 4\n",
    "A = np.loadtxt(f\"A-{N}.dat\", dtype=float)\n",
    "b = np.loadtxt(f\"b-{N}.dat\")\n",
    "\n",
    "if np.linalg.det(A) == 0:\n",
    "    print(\"Matriz singular\")\n",
    "else:\n",
    "    print(\"Condicionamento: \", np.linalg.cond(A))"
   ]
  },
  {
   "cell_type": "markdown",
   "metadata": {},
   "source": [
    "## LU"
   ]
  },
  {
   "cell_type": "code",
   "execution_count": 52,
   "metadata": {},
   "outputs": [
    {
     "name": "stdout",
     "output_type": "stream",
     "text": [
      "********************\n",
      "Decomposicao LU\n",
      "Resultado:  [11.00000007 10.99999909 11.00000238 10.99999838]\n",
      "Diferença relativa:  2.1599957184486646e-07\n"
     ]
    }
   ],
   "source": [
    "P = pivot(A, N)\n",
    "\n",
    "if any in P != 0:\n",
    "    x_lu, dif_lu = LU_decomposition(np.dot(P, A), N, np.dot(P, b))\n",
    "\n",
    "    print(\"*\" * 20)\n",
    "    print(\"Decomposicao LU\")\n",
    "    print(\"Resultado: \", x_lu)\n",
    "    print(\"Diferença relativa: \", dif_lu)\n",
    "\n",
    "else:\n",
    "    x_lu, dif_lu = LU_decomposition(A, N, b)\n",
    "\n",
    "    print(\"*\" * 20)\n",
    "    print(\"Decomposicao LU\")\n",
    "    print(\"Resultado: \", x_lu)\n",
    "    print(\"Diferença relativa: \", dif_lu)"
   ]
  },
  {
   "cell_type": "markdown",
   "metadata": {},
   "source": [
    "## Jacobi"
   ]
  },
  {
   "cell_type": "markdown",
   "metadata": {},
   "source": [
    "Para $x_0 = [10, 10, 10, 10]$"
   ]
  },
  {
   "cell_type": "code",
   "execution_count": 53,
   "metadata": {},
   "outputs": [
    {
     "name": "stdout",
     "output_type": "stream",
     "text": [
      "********************\n",
      "Jacobi\n",
      "Máximo de iterações\n",
      "Resultado:  [12.08333333 13.85       14.75       15.31666666]\n",
      "Diferença relativa:  0.39242424181863667\n"
     ]
    }
   ],
   "source": [
    "x_0 = [10 for i in range(N)]\n",
    "\n",
    "if any in P != 0:\n",
    "    print(\"Método não aplicável\")\n",
    "\n",
    "else:\n",
    "    x_j, dif_j, flag = Jacobi(A, N, b, x_0)\n",
    "\n",
    "    print(\"*\" * 20)\n",
    "    print(\"Jacobi\")\n",
    "    if flag == 0:\n",
    "        print(\"Convergiu\")\n",
    "    else:\n",
    "        print(\"Máximo de iterações\")\n",
    "    print(\"Resultado: \", x_j)\n",
    "    print(\"Diferença relativa: \", dif_j)"
   ]
  },
  {
   "cell_type": "markdown",
   "metadata": {},
   "source": [
    "Para $x_0 = [10.9, 10.9, 10.9, 10.9]$"
   ]
  },
  {
   "cell_type": "code",
   "execution_count": 54,
   "metadata": {},
   "outputs": [
    {
     "name": "stdout",
     "output_type": "stream",
     "text": [
      "********************\n",
      "Jacobi\n",
      "Máximo de iterações\n",
      "Resultado:  [11.10833333 11.285      11.375      11.43166666]\n",
      "Diferença relativa:  0.039242423723681856\n"
     ]
    }
   ],
   "source": [
    "x_0 = [10.9 for i in range(N)]\n",
    "\n",
    "if any in P != 0:\n",
    "    print(\"Método não aplicável\")\n",
    "\n",
    "else:\n",
    "    x_j, dif_j, flag = Jacobi(A, N, b, x_0)\n",
    "\n",
    "    print(\"*\" * 20)\n",
    "    print(\"Jacobi\")\n",
    "    if flag == 0:\n",
    "        print(\"Convergiu\")\n",
    "    else:\n",
    "        print(\"Máximo de iterações\")\n",
    "    print(\"Resultado: \", x_j)\n",
    "    print(\"Diferença relativa: \", dif_j)"
   ]
  },
  {
   "cell_type": "markdown",
   "metadata": {},
   "source": [
    "# N = 6"
   ]
  },
  {
   "cell_type": "code",
   "execution_count": 57,
   "metadata": {},
   "outputs": [
    {
     "name": "stdout",
     "output_type": "stream",
     "text": [
      "Condicionamento:  14949631.828140516\n"
     ]
    }
   ],
   "source": [
    "N = 6\n",
    "A = np.loadtxt(f\"A-{N}.dat\", dtype=float)\n",
    "b = np.loadtxt(f\"b-{N}.dat\")\n",
    "\n",
    "if np.linalg.det(A) == 0:\n",
    "    print(\"Matriz singular\")\n",
    "else:\n",
    "    print(\"Condicionamento: \", np.linalg.cond(A))\n",
    "    P = pivot(A, N)"
   ]
  },
  {
   "cell_type": "markdown",
   "metadata": {},
   "source": [
    "## LU"
   ]
  },
  {
   "cell_type": "code",
   "execution_count": 58,
   "metadata": {},
   "outputs": [
    {
     "name": "stdout",
     "output_type": "stream",
     "text": [
      "********************\n",
      "Decomposicao LU\n",
      "Resultado:  [11.0000003  10.99999303 11.00004057 10.99990651 11.00009336 10.99996618]\n",
      "Diferença relativa:  8.499046894301769e-06\n"
     ]
    }
   ],
   "source": [
    "if any in P != 0:\n",
    "    x_lu, dif_lu = LU_decomposition(np.dot(P, A), N, np.dot(P, b))\n",
    "\n",
    "    print(\"*\" * 20)\n",
    "    print(\"Decomposicao LU\")\n",
    "    print(\"Resultado: \", x_lu)\n",
    "    print(\"Diferença relativa: \", dif_lu)\n",
    "\n",
    "else:\n",
    "    x_lu, dif_lu = LU_decomposition(A, N, b)\n",
    "\n",
    "    print(\"*\" * 20)\n",
    "    print(\"Decomposicao LU\")\n",
    "    print(\"Resultado: \", x_lu)\n",
    "    print(\"Diferença relativa: \", dif_lu)"
   ]
  },
  {
   "cell_type": "markdown",
   "metadata": {},
   "source": [
    "## Jacobi"
   ]
  },
  {
   "cell_type": "markdown",
   "metadata": {},
   "source": [
    "Para $x_0 = [10, 10, 10, 10, 10, 10]$"
   ]
  },
  {
   "cell_type": "code",
   "execution_count": 59,
   "metadata": {},
   "outputs": [
    {
     "name": "stdout",
     "output_type": "stream",
     "text": [
      "********************\n",
      "Jacobi\n",
      "Máximo de iterações\n",
      "Resultado:  [12.45       14.77857143 16.08928571 16.96944444 17.61071428 18.10198412]\n",
      "Diferença relativa:  0.6456349201645625\n"
     ]
    }
   ],
   "source": [
    "x_0 = [10 for i in range(N)]\n",
    "\n",
    "if any in P != 0:\n",
    "    print(\"Método não aplicável\")\n",
    "\n",
    "else:\n",
    "    x_j, dif_j, flag = Jacobi(A, N, b, x_0)\n",
    "\n",
    "    print(\"*\" * 20)\n",
    "    print(\"Jacobi\")\n",
    "    if flag == 0:\n",
    "        print(\"Convergiu\")\n",
    "    else:\n",
    "        print(\"Máximo de iterações\")\n",
    "    print(\"Resultado: \", x_j)\n",
    "    print(\"Diferença relativa: \", dif_j)"
   ]
  },
  {
   "cell_type": "markdown",
   "metadata": {},
   "source": [
    "Para $x_0 = [10.9, 10.9, 10.9, 10.9, 10.9, 10.9]$"
   ]
  },
  {
   "cell_type": "code",
   "execution_count": 60,
   "metadata": {},
   "outputs": [
    {
     "name": "stdout",
     "output_type": "stream",
     "text": [
      "********************\n",
      "Jacobi\n",
      "Máximo de iterações\n",
      "Resultado:  [11.145      11.37785714 11.50892857 11.59694444 11.66107142 11.71019841]\n",
      "Diferença relativa:  0.06456349147645585\n"
     ]
    }
   ],
   "source": [
    "x_0 = [10.9 for i in range(N)]\n",
    "\n",
    "if any in P != 0:\n",
    "    print(\"Método não aplicável\")\n",
    "\n",
    "else:\n",
    "    x_j, dif_j, flag = Jacobi(A, N, b, x_0)\n",
    "\n",
    "    print(\"*\" * 20)\n",
    "    print(\"Jacobi\")\n",
    "    if flag == 0:\n",
    "        print(\"Convergiu\")\n",
    "    else:\n",
    "        print(\"Máximo de iterações\")\n",
    "    print(\"Resultado: \", x_j)\n",
    "    print(\"Diferença relativa: \", dif_j)"
   ]
  },
  {
   "cell_type": "markdown",
   "metadata": {},
   "source": [
    "# N = 8"
   ]
  },
  {
   "cell_type": "code",
   "execution_count": 61,
   "metadata": {},
   "outputs": [
    {
     "name": "stdout",
     "output_type": "stream",
     "text": [
      "Condicionamento:  14099901262.930334\n"
     ]
    }
   ],
   "source": [
    "N = 8\n",
    "A = np.loadtxt(f\"A-{N}.dat\", dtype=float)\n",
    "b = np.loadtxt(f\"b-{N}.dat\")\n",
    "\n",
    "if np.linalg.det(A) == 0:\n",
    "    print(\"Matriz singular\")\n",
    "else:\n",
    "    print(\"Condicionamento: \", np.linalg.cond(A))\n",
    "    P = pivot(A, N)"
   ]
  },
  {
   "cell_type": "markdown",
   "metadata": {},
   "source": [
    "## LU"
   ]
  },
  {
   "cell_type": "code",
   "execution_count": 62,
   "metadata": {},
   "outputs": [
    {
     "name": "stdout",
     "output_type": "stream",
     "text": [
      "********************\n",
      "Decomposicao LU\n",
      "Resultado:  [11.00009209 10.99506606 11.06449641 10.65042262 11.94268367  9.66405059\n",
      " 11.95210498 10.73101541]\n",
      "Diferença relativa:  0.12144994641820536\n"
     ]
    }
   ],
   "source": [
    "if any in P != 0:\n",
    "    x_lu, dif_lu = LU_decomposition(np.dot(P, A), N, np.dot(P, b))\n",
    "\n",
    "    print(\"*\" * 20)\n",
    "    print(\"Decomposicao LU\")\n",
    "    print(\"Resultado: \", x_lu)\n",
    "    print(\"Diferença relativa: \", dif_lu)\n",
    "\n",
    "else:\n",
    "    x_lu, dif_lu = LU_decomposition(A, N, b)\n",
    "\n",
    "    print(\"*\" * 20)\n",
    "    print(\"Decomposicao LU\")\n",
    "    print(\"Resultado: \", x_lu)\n",
    "    print(\"Diferença relativa: \", dif_lu)"
   ]
  },
  {
   "cell_type": "markdown",
   "metadata": {},
   "source": [
    "## Jacobi"
   ]
  },
  {
   "cell_type": "markdown",
   "metadata": {},
   "source": [
    "Para $x_0 = [10, 10, 10, 10, 10, 10, 10, 10]$"
   ]
  },
  {
   "cell_type": "code",
   "execution_count": 63,
   "metadata": {},
   "outputs": [
    {
     "name": "stdout",
     "output_type": "stream",
     "text": [
      "********************\n",
      "Jacobi\n",
      "Máximo de iterações\n",
      "Resultado:  [12.71785714 15.48690476 17.14484127 18.30580807 19.1788961  19.86480464\n",
      " 20.42031026 20.88057776]\n",
      "Diferença relativa:  0.8982343419145199\n"
     ]
    }
   ],
   "source": [
    "x_0 = [10 for i in range(N)]\n",
    "\n",
    "if any in P != 0:\n",
    "    print(\"Método não aplicável\")\n",
    "\n",
    "else:\n",
    "    x_j, dif_j, flag = Jacobi(A, N, b, x_0)\n",
    "\n",
    "    print(\"*\" * 20)\n",
    "    print(\"Jacobi\")\n",
    "    if flag == 0:\n",
    "        print(\"Convergiu\")\n",
    "    else:\n",
    "        print(\"Máximo de iterações\")\n",
    "    print(\"Resultado: \", x_j)\n",
    "    print(\"Diferença relativa: \", dif_j)"
   ]
  },
  {
   "cell_type": "markdown",
   "metadata": {},
   "source": [
    "Para $x_0 = [10.9, 10.9, 10.9, 10.9, 10.9, 10.9, 10.9, 10.9]$"
   ]
  },
  {
   "cell_type": "code",
   "execution_count": 64,
   "metadata": {},
   "outputs": [
    {
     "name": "stdout",
     "output_type": "stream",
     "text": [
      "********************\n",
      "Máximo de iterações\n",
      "Jacobi\n",
      "Resultado:  [11.17178571 11.44869048 11.61448413 11.7305808  11.81788961 11.88648046\n",
      " 11.94203103 11.98805779]\n",
      "Diferença relativa:  0.08982343517327106\n"
     ]
    }
   ],
   "source": [
    "x_0 = [10.9 for i in range(N)]\n",
    "\n",
    "if any in P != 0:\n",
    "    print(\"Método não aplicável\")\n",
    "\n",
    "else:\n",
    "    x_j, dif_j, flag = Jacobi(A, N, b, x_0)\n",
    "\n",
    "    print(\"*\" * 20)\n",
    "    if flag == 0:\n",
    "        print(\"Convergiu\")\n",
    "    else:\n",
    "        print(\"Máximo de iterações\")\n",
    "    print(\"Jacobi\")\n",
    "    print(\"Resultado: \", x_j)\n",
    "    print(\"Diferença relativa: \", dif_j)"
   ]
  },
  {
   "cell_type": "markdown",
   "metadata": {},
   "source": [
    "# N = 10"
   ]
  },
  {
   "cell_type": "code",
   "execution_count": 65,
   "metadata": {},
   "outputs": [
    {
     "name": "stdout",
     "output_type": "stream",
     "text": [
      "Condicionamento:  102994344984.54922\n"
     ]
    }
   ],
   "source": [
    "N = 10\n",
    "A = np.loadtxt(f\"A-{N}.dat\", dtype=float)\n",
    "b = np.loadtxt(f\"b-{N}.dat\")\n",
    "if np.linalg.det(A) == 0:\n",
    "    print(\"Matriz singular\")\n",
    "else:\n",
    "    print(\"Condicionamento: \", np.linalg.cond(A))"
   ]
  },
  {
   "cell_type": "markdown",
   "metadata": {},
   "source": [
    "## LU"
   ]
  },
  {
   "cell_type": "code",
   "execution_count": 47,
   "metadata": {},
   "outputs": [
    {
     "name": "stdout",
     "output_type": "stream",
     "text": [
      "********************\n",
      "Decomposicao LU\n",
      "Resultado:  [10.99948319 11.03436815 10.44948911 14.61559517 -0.59167335 29.44723247\n",
      " -0.06948446  5.37931378 21.5442905   7.19086363]\n",
      "Diferença relativa:  1.677021133476079\n"
     ]
    }
   ],
   "source": [
    "P = pivot(A, N)\n",
    "\n",
    "if any in P != 0:\n",
    "    x_lu, dif_lu = LU_decomposition(np.dot(P, A), N, np.dot(P, b))\n",
    "\n",
    "    print(\"*\" * 20)\n",
    "    print(\"Decomposicao LU\")\n",
    "    print(\"Resultado: \", x_lu)\n",
    "    print(\"Diferença relativa: \", dif_lu)\n",
    "\n",
    "else:\n",
    "    x_lu, dif_lu = LU_decomposition(A, N, b)\n",
    "\n",
    "    print(\"*\" * 20)\n",
    "    print(\"Decomposicao LU\")\n",
    "    print(\"Resultado: \", x_lu)\n",
    "    print(\"Diferença relativa: \", dif_lu)"
   ]
  },
  {
   "cell_type": "markdown",
   "metadata": {},
   "source": [
    "## Jacobi"
   ]
  },
  {
   "cell_type": "markdown",
   "metadata": {},
   "source": [
    "Para $x_0 = [10, 10, 10, 10, 10, 10, 10, 10, 10, 10]$"
   ]
  },
  {
   "cell_type": "code",
   "execution_count": 66,
   "metadata": {},
   "outputs": [
    {
     "name": "stdout",
     "output_type": "stream",
     "text": [
      "********************\n",
      "Máximo de iterações\n",
      "Jacobi\n",
      "Resultado:  [12.92896825 16.05963203 18.01605339 19.42760295 20.51406094 21.38385226\n",
      " 22.09947692 22.7004307  23.21326591 23.65665669]\n",
      "Diferença relativa:  1.1506051533082713\n"
     ]
    }
   ],
   "source": [
    "x_0 = [10 for i in range(N)]\n",
    "\n",
    "if any in P != 0:\n",
    "    print(\"Método não aplicável\")\n",
    "\n",
    "else:\n",
    "    x_j, dif_j, flag = Jacobi(A, N, b, x_0)\n",
    "\n",
    "    print(\"*\" * 20)\n",
    "    if flag == 0:\n",
    "        print(\"Convergiu\")\n",
    "    else:\n",
    "        print(\"Máximo de iterações\")\n",
    "    print(\"Jacobi\")\n",
    "    print(\"Resultado: \", x_j)\n",
    "    print(\"Diferença relativa: \", dif_j)"
   ]
  },
  {
   "cell_type": "markdown",
   "metadata": {},
   "source": [
    "Para $x_0 = [10.9, 10.9, 10.9, 10.9, 10.9, 10.9, 10.9, 10.9, 10.9, 10.9]$"
   ]
  },
  {
   "cell_type": "code",
   "execution_count": 67,
   "metadata": {},
   "outputs": [
    {
     "name": "stdout",
     "output_type": "stream",
     "text": [
      "********************\n",
      "Máximo de iterações\n",
      "Jacobi\n",
      "Resultado:  [11.19289683 11.5059632  11.70160534 11.84276029 11.9514061  12.03838523\n",
      " 12.1099477  12.17004308 12.2213266  12.26566568]\n",
      "Diferença relativa:  0.11506051657446421\n"
     ]
    }
   ],
   "source": [
    "x_0 = [10.9 for i in range(N)]\n",
    "\n",
    "if any in P != 0:\n",
    "    print(\"Método não aplicável\")\n",
    "\n",
    "else:\n",
    "    x_j, dif_j, flag = Jacobi(A, N, b, x_0)\n",
    "\n",
    "    print(\"*\" * 20)\n",
    "    if flag == 0:\n",
    "        print(\"Convergiu\")\n",
    "    else:\n",
    "        print(\"Máximo de iterações\")\n",
    "    print(\"Jacobi\")\n",
    "    print(\"Resultado: \", x_j)\n",
    "    print(\"Diferença relativa: \", dif_j)"
   ]
  }
 ],
 "metadata": {
  "kernelspec": {
   "display_name": "base",
   "language": "python",
   "name": "python3"
  },
  "language_info": {
   "codemirror_mode": {
    "name": "ipython",
    "version": 3
   },
   "file_extension": ".py",
   "mimetype": "text/x-python",
   "name": "python",
   "nbconvert_exporter": "python",
   "pygments_lexer": "ipython3",
   "version": "3.11.4"
  },
  "orig_nbformat": 4
 },
 "nbformat": 4,
 "nbformat_minor": 2
}
