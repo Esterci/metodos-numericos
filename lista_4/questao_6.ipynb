{
    "cells": [
        {
            "cell_type": "markdown",
            "metadata": {},
            "source": [
                "# Imports necessários"
            ]
        },
        {
            "cell_type": "code",
            "execution_count": 3,
            "metadata": {},
            "outputs": [],
            "source": [
                "import numpy as np\n"
            ]
        },
        {
            "cell_type": "markdown",
            "metadata": {},
            "source": [
                "# Implementação dos métodos"
            ]
        },
        {
            "cell_type": "code",
            "execution_count": 4,
            "metadata": {},
            "outputs": [],
            "source": [
                "def householder(A):\n",
                "    m, n = A.shape\n",
                "    Q = np.identity(m)\n",
                "    R = A.copy()\n",
                "\n",
                "    for j in range(n):\n",
                "        x = R[j:m, j]\n",
                "        v = np.copy(x)\n",
                "        v[0] = v[0] + np.sign(x[0]) * np.linalg.norm(x)\n",
                "\n",
                "        if np.linalg.norm(v) == 0:\n",
                "            continue\n",
                "\n",
                "        v = v / np.linalg.norm(v)\n",
                "\n",
                "        R[j:m, j:n] = R[j:m, j:n] - 2.0 * np.outer(v, np.dot(v, R[j:m, j:n]))\n",
                "\n",
                "        # Atualiza Q apropriadamente\n",
                "        Q_jm = Q[j:m, :]\n",
                "        Q[j:m, :] = Q_jm - 2.0 * np.outer(v, np.dot(v, Q_jm))\n",
                "\n",
                "    return Q, R\n"
            ]
        },
        {
            "cell_type": "markdown",
            "metadata": {},
            "source": [
                "# Implementação"
            ]
        },
        {
            "cell_type": "code",
            "execution_count": 10,
            "metadata": {},
            "outputs": [
                {
                    "name": "stdout",
                    "output_type": "stream",
                    "text": [
                        "\n",
                        " Matriz Q:\n",
                        " [[-0.66666667  0.66666667]\n",
                        " [ 0.66666667  0.33333333]\n",
                        " [-0.33333333 -0.66666667]]\n",
                        "\n",
                        " Matriz R:\n",
                        " [[-3. -6.]\n",
                        " [ 0.  3.]]\n",
                        "\n",
                        "z =  [-6. -3.]\n",
                        "x =  [ 4. -1.]\n",
                        "\n",
                        "resíduo = 2.9999999999999996\n"
                    ]
                }
            ],
            "source": [
                "# Matriz A\n",
                "A = np.array([[2.0, 3.0], [-2.0, -6.0], [1.0, 0.0]])\n",
                "\n",
                "# Vetor b\n",
                "b = np.array([3.0, -3.0, 6.0])\n",
                "\n",
                "# Adiciona a coluna do vetor b à matriz A\n",
                "A_augmented = np.hstack((A, np.expand_dims(b, axis=1)))\n",
                "\n",
                "# Aplica o método de Householder para obter as matrizes Q e R\n",
                "Q, R = householder(A_augmented)\n",
                "\n",
                "Q = Q.transpose()[:, [0, 2]]\n",
                "\n",
                "R = R[[0, 1], :][:, [0, 1]]\n",
                "\n",
                "print(\"\\n Matriz Q:\\n\", Q)\n",
                "\n",
                "print(\"\\n Matriz R:\\n\", R)\n",
                "\n",
                "# Calcular o vetor z\n",
                "z = np.dot(Q.transpose(), b)\n",
                "print(\"\\nz = \", z.transpose())\n",
                "\n",
                "# Resolve o sistema\n",
                "x = np.linalg.solve(R, z)\n",
                "print(\"x = \", x.transpose())\n",
                "\n",
                "# Resíduo\n",
                "r = np.linalg.norm(np.dot(A, x) - b)\n",
                "print(\"\\nresíduo = {}\".format(r))"
            ]
        }
    ],
    "metadata": {
        "kernelspec": {
            "display_name": "Python 3",
            "language": "python",
            "name": "python3"
        },
        "language_info": {
            "codemirror_mode": {
                "name": "ipython",
                "version": 3
            },
            "file_extension": ".py",
            "mimetype": "text/x-python",
            "name": "python",
            "nbconvert_exporter": "python",
            "pygments_lexer": "ipython3",
            "version": "3.11.4"
        },
        "orig_nbformat": 4
    },
    "nbformat": 4,
    "nbformat_minor": 2
}
