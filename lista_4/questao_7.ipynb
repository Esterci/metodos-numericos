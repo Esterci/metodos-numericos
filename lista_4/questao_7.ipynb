{
    "cells": [
        {
            "cell_type": "markdown",
            "metadata": {},
            "source": [
                "# Imports necessários"
            ]
        },
        {
            "cell_type": "code",
            "execution_count": 3,
            "metadata": {},
            "outputs": [],
            "source": [
                "import numpy as np"
            ]
        },
        {
            "cell_type": "markdown",
            "metadata": {},
            "source": [
                "# Implementação dos métodos"
            ]
        },
        {
            "cell_type": "code",
            "execution_count": 1,
            "metadata": {},
            "outputs": [],
            "source": [
                "import numpy as np\n",
                "\n",
                "def gram_schmidt(A, b):\n",
                "    m, n = A.shape\n",
                "    Q = np.zeros((m, n))\n",
                "    R = np.zeros((n, n))\n",
                "\n",
                "    for j in range(n):\n",
                "        v = A[:, j]\n",
                "        for i in range(j):\n",
                "            R[i, j] = np.dot(Q[:, i], A[:, j])\n",
                "            v -= R[i, j] * Q[:, i]\n",
                "        R[j, j] = np.linalg.norm(v)\n",
                "        Q[:, j] = v / R[j, j]\n",
                "\n",
                "    return Q, R"
            ]
        },
        {
            "cell_type": "markdown",
            "metadata": {},
            "source": [
                "# Implementação"
            ]
        },
        {
            "cell_type": "code",
            "execution_count": 3,
            "metadata": {},
            "outputs": [
                {
                    "name": "stdout",
                    "output_type": "stream",
                    "text": [
                        "\n",
                        " Matriz Q:\n",
                        " [[ 0.66666667 -0.33333333]\n",
                        " [-0.66666667 -0.66666667]\n",
                        " [ 0.33333333 -0.66666667]]\n",
                        "\n",
                        " Matriz R:\n",
                        " [[3. 6.]\n",
                        " [0. 3.]]\n",
                        "\n",
                        "z =  [ 6. -3.]\n",
                        "x =  [ 4. -1.]\n",
                        "\n",
                        "resíduo = 6.708203932499369\n"
                    ]
                }
            ],
            "source": [
                "\n",
                "# Matriz A\n",
                "A = np.array([[2, 3],\n",
                "              [-2, -6],\n",
                "              [1, 0]], dtype=float)\n",
                "\n",
                "# Vetor b\n",
                "b = np.array([3, -3, 6], dtype=float)\n",
                "\n",
                "# Aplicar o método de Gram-Schmidt para obter as matrizes Q e R\n",
                "Q, R = gram_schmidt(A, b)\n",
                "\n",
                "print(\"\\n Matriz Q:\\n\",Q)\n",
                "\n",
                "print(\"\\n Matriz R:\\n\",R)\n",
                "\n",
                "# Calcular o vetor z\n",
                "z = np.dot(Q.transpose(), b)\n",
                "print('\\nz = ', z.transpose())\n",
                "\n",
                "# Resolver o sistema Rx=z\n",
                "x = np.linalg.solve(R, z)\n",
                "print('x = ',x.transpose())\n",
                "\n",
                "# Calcular o resíduo\n",
                "r = np.linalg.norm(np.dot(A, x) - b)\n",
                "print(\"\\nresíduo = {}\".format(r))\n"
            ]
        }
    ],
    "metadata": {
        "kernelspec": {
            "display_name": "Python 3",
            "language": "python",
            "name": "python3"
        },
        "language_info": {
            "codemirror_mode": {
                "name": "ipython",
                "version": 3
            },
            "file_extension": ".py",
            "mimetype": "text/x-python",
            "name": "python",
            "nbconvert_exporter": "python",
            "pygments_lexer": "ipython3",
            "version": "3.11.4"
        },
        "orig_nbformat": 4
    },
    "nbformat": 4,
    "nbformat_minor": 2
}
