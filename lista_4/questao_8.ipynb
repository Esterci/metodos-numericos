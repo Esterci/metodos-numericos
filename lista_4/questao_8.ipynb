{
 "cells": [
  {
   "cell_type": "markdown",
   "metadata": {},
   "source": [
    "# Imports necessários"
   ]
  },
  {
   "cell_type": "code",
   "execution_count": 3,
   "metadata": {},
   "outputs": [],
   "source": [
    "import numpy as np\n",
    "import matplotlib.pyplot as plt\n",
    "import sympy as sp"
   ]
  },
  {
   "cell_type": "markdown",
   "metadata": {},
   "source": [
    "# Implementação dos métodos"
   ]
  },
  {
   "cell_type": "code",
   "execution_count": 4,
   "metadata": {},
   "outputs": [],
   "source": [
    "def sistema_aumentado(x, y, dim):\n",
    "    m = len(x)\n",
    "\n",
    "    A = np.empty((dim, dim))\n",
    "\n",
    "    b = np.empty((dim))\n",
    "\n",
    "    soma = []\n",
    "\n",
    "    # Somatórios da matriz A\n",
    "    for i in range(0, dim + 2):\n",
    "        aux = 0\n",
    "\n",
    "        for k in range(0, m):\n",
    "            aux = aux + x[k] ** i\n",
    "\n",
    "        soma.append(aux)\n",
    "\n",
    "    # Preenchimento da matriz A\n",
    "    for i in range(0, dim):\n",
    "        for j in range(i, dim):\n",
    "            A[i, j] = soma[i + j]\n",
    "\n",
    "            if i != j:\n",
    "                A[j, i] = A[i, j]\n",
    "\n",
    "    b = []\n",
    "    # Preencchimento do vetor b\n",
    "    for i in range(0, dim):\n",
    "        aux = 0\n",
    "\n",
    "        for k in range(0, m):\n",
    "            aux = aux + y[k] * (x[k] ** (i))\n",
    "\n",
    "        b.append(aux)\n",
    "\n",
    "    return A, b"
   ]
  },
  {
   "cell_type": "markdown",
   "metadata": {},
   "source": [
    "# Letra A"
   ]
  },
  {
   "cell_type": "markdown",
   "metadata": {},
   "source": [
    "## Resolvendo sistema linear"
   ]
  },
  {
   "cell_type": "code",
   "execution_count": 5,
   "metadata": {},
   "outputs": [
    {
     "name": "stdout",
     "output_type": "stream",
     "text": [
      "A = \n",
      " [[22.     16.93  ]\n",
      " [16.93   13.7127]]\n",
      "\n",
      " b = \n",
      " [68460.0, 46993.600000000006]\n",
      "\n",
      " coef =  [ 9510.09957156 -8314.36447574]\n"
     ]
    }
   ],
   "source": [
    "y = [\n",
    "    3980,\n",
    "    2200,\n",
    "    1850,\n",
    "    6100,\n",
    "    2100,\n",
    "    1700,\n",
    "    2000,\n",
    "    4200,\n",
    "    2440,\n",
    "    3300,\n",
    "    2300,\n",
    "    6000,\n",
    "    1190,\n",
    "    1960,\n",
    "    2760,\n",
    "    4330,\n",
    "    6960,\n",
    "    4160,\n",
    "    1990,\n",
    "    2860,\n",
    "    1920,\n",
    "    2160,\n",
    "]\n",
    "\n",
    "x = [\n",
    "    0.59,\n",
    "    0.80,\n",
    "    0.95,\n",
    "    0.45,\n",
    "    0.79,\n",
    "    0.99,\n",
    "    0.90,\n",
    "    0.65,\n",
    "    0.79,\n",
    "    0.69,\n",
    "    0.79,\n",
    "    0.49,\n",
    "    1.09,\n",
    "    0.95,\n",
    "    0.79,\n",
    "    0.65,\n",
    "    0.45,\n",
    "    0.60,\n",
    "    0.89,\n",
    "    0.79,\n",
    "    0.99,\n",
    "    0.85,\n",
    "]\n",
    "\n",
    "dim = 2  # Dois coeficientes (Uma reta)\n",
    "\n",
    "A, b = sistema_aumentado(x, y, dim)\n",
    "\n",
    "print(\"A = \\n\", A)\n",
    "\n",
    "print(\"\\n b = \", b)\n",
    "\n",
    "# Coeficientes\n",
    "\n",
    "coef = np.linalg.solve(A, b)\n",
    "\n",
    "print(\"\\n coef = \", coef)"
   ]
  },
  {
   "cell_type": "markdown",
   "metadata": {},
   "source": [
    "## Gerando Gráfico da reta"
   ]
  },
  {
   "cell_type": "code",
   "execution_count": 9,
   "metadata": {},
   "outputs": [
    {
     "data": {
      "image/png": "[encoded data removed]",
      "text/plain": [
       "<Figure size 640x480 with 1 Axes>"
      ]
     },
     "metadata": {},
     "output_type": "display_data"
    },
    {
     "name": "stdout",
     "output_type": "stream",
     "text": [
      " \n",
      "-8314 x + 9510\n"
     ]
    }
   ],
   "source": [
    "# Plot dos pontos de dados em vermelho\n",
    "plt.scatter(x, y, color=\"r\")\n",
    "\n",
    "# Criar uma série de dados ao longo do intervalo dos valores de x\n",
    "data = np.linspace(min(x), max(x), num=len(x))\n",
    "\n",
    "# Copiar e inverter a ordem dos coeficientes\n",
    "c = coef[::-1].copy()\n",
    "\n",
    "# Criar uma função polinomial g com os coeficientes encontrados\n",
    "g = np.poly1d(c)\n",
    "\n",
    "# Plot da reta de ajuste em azul tracejado\n",
    "plt.plot(data, g(data), \"b--\")\n",
    "\n",
    "# Configurar a grade no gráfico\n",
    "plt.grid()\n",
    "\n",
    "# Mostrar o gráfico\n",
    "plt.show()\n",
    "\n",
    "# Imprimir a função polinomial g\n",
    "print(g)"
   ]
  },
  {
   "cell_type": "markdown",
   "metadata": {},
   "source": [
    "## Calculando RMSE"
   ]
  },
  {
   "cell_type": "code",
   "execution_count": 13,
   "metadata": {},
   "outputs": [
    {
     "name": "stdout",
     "output_type": "stream",
     "text": [
      "RMSE =  436.09419714431533\n"
     ]
    }
   ],
   "source": [
    "modeled = []\n",
    "\n",
    "for i in range(len(x)):\n",
    "    modeled.append(coef[1] * x[i] + coef[0])\n",
    "\n",
    "RSE = ((np.array(y) - np.array(modeled)) ** 2) ** 0.5\n",
    "\n",
    "RMSE = np.mean(RSE)\n",
    "\n",
    "print(\"RMSE = \", RMSE)"
   ]
  },
  {
   "cell_type": "markdown",
   "metadata": {},
   "source": [
    "# Letra B"
   ]
  },
  {
   "cell_type": "code",
   "execution_count": 16,
   "metadata": {},
   "outputs": [
    {
     "name": "stdout",
     "output_type": "stream",
     "text": [
      "O lucro máximo é de 1660.60 e ocorre quando o preço de venda é de 0.70\n"
     ]
    }
   ],
   "source": [
    "x = sp.Symbol(\"x\")\n",
    "L = (coef[1] * x + coef[0]) * (x - 0.25)\n",
    "\n",
    "L_derivada = sp.diff(L, x)\n",
    "\n",
    "ponto_critico = sp.solve(L_derivada, x)\n",
    "\n",
    "max_valor = max([L.subs(x, cp) for cp in ponto_critico])\n",
    "\n",
    "print(\n",
    "    \"O lucro máximo é de {:.2f} e ocorre quando o preço de venda é de {:.2f}\".format(\n",
    "        max_valor, ponto_critico[0]\n",
    "    )\n",
    ")"
   ]
  },
  {
   "cell_type": "code",
   "execution_count": null,
   "metadata": {},
   "outputs": [],
   "source": []
  }
 ],
 "metadata": {
  "kernelspec": {
   "display_name": "Python 3",
   "language": "python",
   "name": "python3"
  },
  "language_info": {
   "codemirror_mode": {
    "name": "ipython",
    "version": 3
   },
   "file_extension": ".py",
   "mimetype": "text/x-python",
   "name": "python",
   "nbconvert_exporter": "python",
   "pygments_lexer": "ipython3",
   "version": "3.11.4"
  },
  "orig_nbformat": 4
 },
 "nbformat": 4,
 "nbformat_minor": 2
}
