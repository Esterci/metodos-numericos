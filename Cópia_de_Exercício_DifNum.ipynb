{
  "cells": [
    {
      "cell_type": "code",
      "execution_count": 1,
      "metadata": {
        "id": "hjac-ZOn02Wh"
      },
      "outputs": [],
      "source": [
        "import numpy as np\n",
        "import sympy\n",
        "x, y, z, t = sympy.symbols('x y z t')"
      ]
    },
    {
      "cell_type": "markdown",
      "metadata": {
        "id": "wAM6Tms_08iF"
      },
      "source": [
        "# Diferenciação Numérica\n",
        "\n",
        "Principais formulas de diferenças finitas usando expansão em série de Taylor\n",
        "\n",
        "### Diferença finita progressiva com dois pontos\n",
        "Aproximação de Taylor para o ponto $x_{i+1}$\n",
        "  $$\n",
        "    f(x_{i+1}) = f(x_i) + f'(x_i)h + \\frac{h^2}{2!}f''(x) + \\frac{h^3}{3!}f'''(x) + ...\n",
        "  $$\n",
        "  com $h=x_{i+1} - x_i$.\n",
        "\n",
        "  Fixando dois primeiro termos da serie e deixando os outros termos como um resíduo, temos,\n",
        "  $$\n",
        "  f(x_{i+1}) = f(x_i) + f'(x_i)h + \\frac{h^2}{2!}f''(\\xi )\n",
        "  $$\n",
        "  Isolando $f'(x)$, temos:\n",
        "  $$\n",
        "  f'(x_i) = \\frac{f(x_{i+1}) - f(x_i)}{h} - \\frac{h}{2}f''(\\xi )\n",
        "  $$\n",
        "  com erro de truncamento,\n",
        "  $$\n",
        "  - \\frac{h}{2}f''(\\xi ) = O(h)\n",
        "  $$\n",
        "\n",
        "  ### Diferença finita regressiva com dois pontos\n",
        "\n",
        "  Aproximação de Taylor para o ponto $x_{i-1}$\n",
        "  $$\n",
        "      f(x_{i-1}) = f(x_i) - f'(x_i)h + \\frac{h^2}{2!}f''(x_i) - \\frac{h^3}{3!}f'''(x_i) + ...\n",
        "  $$\n",
        "  com $h=x_{i} - x_{i-1}$.\n",
        "  \n",
        "  Fixando dois primeiro termos da serie e deixando os outros termos como um resíduo, temos,\n",
        "  $$\n",
        "    f(x_{i-1}) = f(x_i) - f'(x_i)h + \\frac{h^2}{2!}f''(\\xi )\n",
        "  $$\n",
        "  Isolando $f'(x)$, temos:\n",
        "  $$\n",
        "    f'(x_i) = \\frac{f(x_{i}) - f(x_{i-1})}{h} + \\frac{h}{2}f''(\\xi )\n",
        "  $$\n",
        "com erro de truncamento,\n",
        "  $$\n",
        "       \\frac{h}{2}f''(\\xi ) = O(h)\n",
        "  $$\n",
        "\n",
        "## Diferença finita central com dois pontos\n",
        "Aproximação de Taylor para o ponto $x_{i+1}$\n",
        "$$\n",
        "      f(x_{i+1}) = f(x_i) + f'(x_i)h + \\frac{h^2}{2!}f''(x) + \\frac{h^3}{3!}f'''(\\xi_1)\n",
        "$$\n",
        "com $\\xi_1 \\in (x_{i},x_{i+1})$.\n",
        "Aproximação de Taylor para o ponto $x_{i-1}$\n",
        "$$\n",
        "      f(x_{i-1}) = f(x_i) - f'(x_i)h + \\frac{h^2}{2!}f''(x_i) - \\frac{h^3}{3!}f'''(\\xi_2)\n",
        "$$\n",
        "com $\\xi_2 \\in (x_{i-1},x_{i})$.\n",
        "Subtraindo as equações acima, temos\n",
        "$$\n",
        "      f(x_{i+1}) - f(x_{i-1}) = 2hf'(x_i) + \\frac{h^3}{3!}f'''(\\xi_1) + \\frac{h^3}{3!}f'''(\\xi_2)\n",
        "$$\n",
        "Resolvendo para $f'(x)$, temos\n",
        "$$\n",
        "    f'(x_i) = \\frac{f(x_{i+1}) - f(x_{i-1})}{2h} + \\frac{h^2}{6}f'''(\\xi )\n",
        "$$\n",
        "com erro de truncamento,\n",
        "  $$\n",
        "       \\frac{h^2}{6}f'''(\\xi ) = O(h^2)\n",
        "  $$"
      ]
    },
    {
      "cell_type": "markdown",
      "metadata": {
        "id": "kHOQIr0J3Yb-"
      },
      "source": [
        "## Exercício\n",
        "\n",
        "1. Faça uma tabela do erro para as formulas de diferencias finitas acima para a aproximação de $f'(0)$, onde $f(x) = \\sin(x) - \\cos(x)$ com $h=10^{-1}, 10^{-2},...,10^{-10}$. O erro mínimo corresponde à expectativa teórica?\n",
        "\n"
      ]
    },
    {
      "cell_type": "code",
      "execution_count": null,
      "metadata": {
        "id": "PZQMkO2i5C5t"
      },
      "outputs": [],
      "source": [
        "# Implementando a função em questão\n",
        "\n",
        "def f (x):\n",
        "  return np.sin(x)-np.cos(x)\n",
        "\n",
        "# Implemente uma função para diferencição progressiva: dfp\n",
        "def diferencicao_progressiva(x,h):\n",
        "  return (f(x)-f(x-h))/h\n",
        "\n",
        "# Implemente uma função para diferenciação regressiva: dfr\n",
        "\n",
        "\n",
        "# Implemente uma função para diferenciação central: dfc\n",
        "\n",
        "\n",
        "# Criar uma tabela: h, error-dfp, error-dfr, error-dfc"
      ]
    },
    {
      "cell_type": "code",
      "execution_count": 9,
      "metadata": {},
      "outputs": [
        {
          "data": {
            "text/plain": [
              "array([2015, 2015, 2015, 2015, 2015, 2015, 2015, 2015, 2015, 2015, 2015,\n",
              "       2015, 2015, 2015, 2015, 2015, 2015, 2015, 2015, 2015, 2015, 2015,\n",
              "       2015, 2015, 2015, 2016, 2016, 2016, 2016, 2016, 2016, 2016, 2016,\n",
              "       2016, 2016, 2016, 2016, 2016, 2016, 2016, 2016, 2016, 2016, 2016,\n",
              "       2016, 2016, 2016, 2016, 2016, 2016, 2017, 2017, 2017, 2017, 2017,\n",
              "       2017, 2017, 2017, 2017, 2017, 2017, 2017, 2017, 2017, 2017, 2017,\n",
              "       2017, 2017, 2017, 2017, 2017, 2017, 2017, 2017, 2017, 2018, 2018,\n",
              "       2018, 2018, 2018, 2018, 2018, 2018, 2018, 2018, 2018, 2018, 2018,\n",
              "       2018, 2018, 2018, 2018, 2018, 2018, 2018, 2018, 2018, 2018, 2018,\n",
              "       2018, 2019, 2019, 2019, 2019, 2019, 2019, 2019, 2019, 2019, 2019,\n",
              "       2019, 2019, 2019, 2019, 2019, 2019, 2019, 2019, 2019, 2019, 2019,\n",
              "       2019, 2019, 2019, 2019, 2020, 2020, 2020, 2020, 2020, 2020, 2020,\n",
              "       2020, 2020, 2020, 2020, 2020, 2020, 2020, 2020, 2020, 2020, 2020,\n",
              "       2020, 2020, 2020, 2020, 2020, 2020, 2020, 2021, 2021, 2021, 2021,\n",
              "       2021, 2021, 2021, 2021, 2021, 2021, 2021, 2021, 2021, 2021, 2021,\n",
              "       2021, 2021, 2021, 2021, 2021, 2021, 2021, 2021, 2021, 2021, 2022,\n",
              "       2022, 2022, 2022, 2022, 2022, 2022, 2022, 2022, 2022, 2022, 2022,\n",
              "       2022, 2022, 2022, 2022, 2022, 2022, 2022, 2022, 2022, 2022, 2022,\n",
              "       2022, 2023])"
            ]
          },
          "execution_count": 9,
          "metadata": {},
          "output_type": "execute_result"
        }
      ],
      "source": [
        "import numpy as np \n",
        "eval = np.linspace(2015,2023,num=200,dtype=int)\n",
        "eval"
      ]
    },
    {
      "cell_type": "code",
      "execution_count": 10,
      "metadata": {},
      "outputs": [],
      "source": [
        "valores_unicos, repeticoes = np.unique(eval,return_counts =True)"
      ]
    },
    {
      "cell_type": "code",
      "execution_count": 11,
      "metadata": {},
      "outputs": [
        {
          "data": {
            "text/plain": [
              "array([2015, 2016, 2017, 2018, 2019, 2020, 2021, 2022, 2023])"
            ]
          },
          "execution_count": 11,
          "metadata": {},
          "output_type": "execute_result"
        }
      ],
      "source": [
        "valores_unicos"
      ]
    },
    {
      "cell_type": "code",
      "execution_count": 12,
      "metadata": {},
      "outputs": [
        {
          "data": {
            "text/plain": [
              "array([25, 25, 25, 25, 25, 25, 25, 24,  1])"
            ]
          },
          "execution_count": 12,
          "metadata": {},
          "output_type": "execute_result"
        }
      ],
      "source": [
        "repeticoes"
      ]
    },
    {
      "cell_type": "code",
      "execution_count": null,
      "metadata": {},
      "outputs": [],
      "source": []
    }
  ],
  "metadata": {
    "colab": {
      "provenance": []
    },
    "kernelspec": {
      "display_name": "Python 3",
      "name": "python3"
    },
    "language_info": {
      "codemirror_mode": {
        "name": "ipython",
        "version": 3
      },
      "file_extension": ".py",
      "mimetype": "text/x-python",
      "name": "python",
      "nbconvert_exporter": "python",
      "pygments_lexer": "ipython3",
      "version": "3.11.3"
    }
  },
  "nbformat": 4,
  "nbformat_minor": 0
}
