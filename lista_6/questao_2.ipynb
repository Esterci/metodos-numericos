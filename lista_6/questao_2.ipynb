{
 "cells": [
  {
   "cell_type": "markdown",
   "metadata": {},
   "source": [
    "# Questão 3"
   ]
  },
  {
   "cell_type": "code",
   "execution_count": 3,
   "metadata": {},
   "outputs": [],
   "source": [
    "import numpy as np\n",
    "\n",
    "\n",
    "# Definindo a função que representa o sistema de equações\n",
    "def sistema_de_equacoes(W):\n",
    "    return np.array([W[0] + W[1] + W[2] + W[3] - 2, -W[0] + W[4] * W[1] + W[5] * W[2] + W[3], W[0] + W[1] * (W[4] ** 2) + W[2] * (W[5] ** 2) + W[3] - 2/3,\n",
    "                     -W[0] + W[1] * (W[4] ** 3) + W[2] * (W[5] ** 3) + W[3], W[0] + W[1] * (W[4] ** 4) + W[2] * (W[5] ** 4) + W[3] - 2/5,\n",
    "                     -W[0] + W[1] * (W[4] ** 5) + W[2] * (W[5] ** 5) + W[3]])\n",
    "\n",
    "# Definindo a matriz Jacobiana\n",
    "def matriz_jacobiana(W):\n",
    "    return np.array([[1, 1, 1, 1, 0, 0], [-1, W[4], W[5], 1, W[1], W[2]], [1, W[4] ** 2, W[5] ** 2, 1, 2 * W[1] * W[4], 2 * W[2] * W[5]],\n",
    "                     [-1, W[4] ** 3, W[5] ** 3, 1, 3 * W[1] * (W[4] ** 2), 3 * W[2] * (W[5] ** 2)],\n",
    "                     [1, W[4] ** 4, W[5] ** 4, 1, 4 * W[1] * (W[4] ** 3), 4 * W[2] * (W[5] ** 3)],\n",
    "                     [-1, W[4] ** 5, W[5] ** 5, 1, 5 * W[1] * (W[4] ** 4), 5 * W[2] * (W[5] ** 4)]])\n",
    "\n",
    "# Método de Newton\n",
    "def newton(vet_raizes,tolerancia):\n",
    "    k = 0\n",
    "\n",
    "    while k < 100:  # Loop até que a norma de delta seja menor que a precisão ou o número máximo de iterações seja atingido\n",
    "        jacobiana = matriz_jacobiana(vet_raizes)\n",
    "        sistema = sistema_de_equacoes(vet_raizes)\n",
    "        delta_x = np.linalg.solve(jacobiana, -sistema)\n",
    "        \n",
    "        # Atualização das raízes\n",
    "        for i in range(6):\n",
    "            vet_raizes[i] += delta_x[i]\n",
    "\n",
    "        # Verifica se a condição de parada foi atingida\n",
    "        if np.linalg.norm(delta_x) / np.linalg.norm(vet_raizes) < tolerancia:\n",
    "            break\n",
    "        k += 1\n",
    "\n",
    "    # Retorna as raízes aproximadas\n",
    "    return vet_raizes\n"
   ]
  },
  {
   "cell_type": "code",
   "execution_count": 4,
   "metadata": {},
   "outputs": [
    {
     "name": "stdout",
     "output_type": "stream",
     "text": [
      "Resultado aproximado:\n",
      "w0 = 0.166667, w1 = 0.833333, w2 = 0.833333, w3 = 0.166667, w4 = -0.447214, w5 = 0.447214\n"
     ]
    }
   ],
   "source": [
    "# Chamada da função e impressão dos resultados\n",
    "\n",
    "vet_raizes = np.array([1.0, 1.0, 1.0, 1.0, -0.1, 0.1])  # Valores iniciais\n",
    "tolerancia = 1e-6  # Precisão\n",
    "\n",
    "W = newton(vet_raizes,tolerancia)\n",
    "\n",
    "print(\"Resultado aproximado:\")\n",
    "print(f\"w0 = {W[0]:.6f}, w1 = {W[1]:.6f}, w2 = {W[2]:.6f}, w3 = {W[3]:.6f}, w4 = {W[4]:.6f}, w5 = {W[5]:.6f}\")"
   ]
  },
  {
   "cell_type": "code",
   "execution_count": null,
   "metadata": {},
   "outputs": [],
   "source": []
  }
 ],
 "metadata": {
  "kernelspec": {
   "display_name": "base",
   "language": "python",
   "name": "python3"
  },
  "language_info": {
   "codemirror_mode": {
    "name": "ipython",
    "version": 3
   },
   "file_extension": ".py",
   "mimetype": "text/x-python",
   "name": "python",
   "nbconvert_exporter": "python",
   "pygments_lexer": "ipython3",
   "version": "3.11.4"
  },
  "orig_nbformat": 4
 },
 "nbformat": 4,
 "nbformat_minor": 2
}
